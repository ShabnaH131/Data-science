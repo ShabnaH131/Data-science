{
 "cells": [
  {
   "cell_type": "code",
   "execution_count": 14,
   "id": "e7c2be57-40d6-4c3b-9640-2d89f3748558",
   "metadata": {},
   "outputs": [],
   "source": [
    "#Data Preprocessing"
   ]
  },
  {
   "cell_type": "code",
   "execution_count": 15,
   "id": "f73f3b0e-abae-4cb6-a437-efd8c244d5d8",
   "metadata": {},
   "outputs": [
    {
     "name": "stdout",
     "output_type": "stream",
     "text": [
      "Original data \n",
      "      name   age\n",
      "0  Shabna  25.0\n",
      "1  Sheenu   NaN\n",
      "2    None  36.0\n",
      "Missing datas\n",
      "     name    age\n",
      "0  False  False\n",
      "1  False   True\n",
      "2   True  False\n"
     ]
    }
   ],
   "source": [
    "#1. isnull()\n",
    "\n",
    "import pandas as pd\n",
    "data={'name':['Shabna','Sheenu',None],'age':[25,None,36]}\n",
    "\n",
    "df=pd.DataFrame(data)\n",
    "print(\"Original data \\n\",df)\n",
    "\n",
    "print(\"Missing datas\\n\",df.isnull())"
   ]
  },
  {
   "cell_type": "code",
   "execution_count": 16,
   "id": "cc69661b-419e-4593-9a17-58087336ce40",
   "metadata": {},
   "outputs": [
    {
     "name": "stdout",
     "output_type": "stream",
     "text": [
      "After filling the missing values\n",
      "       name   age\n",
      "0   Shabna  25.0\n",
      "1   Sheenu  30.5\n",
      "2  unknown  36.0\n"
     ]
    }
   ],
   "source": [
    "#Missing values in the age column fill with mean age\n",
    "#2.filllna()\n",
    "\n",
    "df['age']=df['age'].fillna(df['age'].mean())\n",
    "#Missing values in the name column fill with unknown\n",
    "df['name']=df['name'].fillna(\"unknown\")\n",
    "print(\"After filling the missing values\\n\",df)"
   ]
  },
  {
   "cell_type": "code",
   "execution_count": 17,
   "id": "7df7f416-1a85-48ca-acd2-35af60888cda",
   "metadata": {},
   "outputs": [
    {
     "name": "stdout",
     "output_type": "stream",
     "text": [
      "Original data\n",
      "     Salary\n",
      "0    25000\n",
      "1    30000\n",
      "2  1000000\n",
      "3    34000\n",
      "Filtered Data\n",
      "    Salary\n",
      "0   25000\n",
      "1   30000\n",
      "3   34000\n"
     ]
    }
   ],
   "source": [
    "#outliers\n",
    "#3. quantile()\n",
    "\n",
    "df=pd.DataFrame({'Salary':[25000,30000,1000000,34000]})\n",
    "Q1=df['Salary'].quantile(0.25)\n",
    "Q3=df['Salary'].quantile(0.75)\n",
    "IQR=Q3-Q1\n",
    "print(\"Original data\\n\",df)\n",
    "fdata=df[(df['Salary']>Q1-1.5*IQR) & (df['Salary']<Q3+1.5*IQR)]\n",
    "print(\"Filtered Data\\n\",fdata)"
   ]
  },
  {
   "cell_type": "code",
   "execution_count": 22,
   "id": "e5a34309-4758-4978-bca7-4d598f106fe9",
   "metadata": {},
   "outputs": [
    {
     "name": "stdout",
     "output_type": "stream",
     "text": [
      "   weight  height\n",
      "0      50     156\n",
      "1      49     161\n",
      "2      65     178\n",
      "   weight  height       BMI\n",
      "0      50     156  0.002055\n",
      "1      49     161  0.001890\n",
      "2      65     178  0.002052\n"
     ]
    }
   ],
   "source": [
    "#Feature Engineering\n",
    "#4. Adding new column\n",
    "\n",
    "df2=pd.DataFrame({'weight':[50,49,65],'height':[156,161,178]})\n",
    "print(df2)\n",
    "df2['BMI']=df2['weight']/(df2['height']**2)\n",
    "print(df2)"
   ]
  },
  {
   "cell_type": "code",
   "execution_count": 24,
   "id": "7831c36d-70c2-448a-99ee-6e7c04cd1a03",
   "metadata": {},
   "outputs": [
    {
     "name": "stdout",
     "output_type": "stream",
     "text": [
      "   name  age\n",
      "0   Anu   12\n",
      "1  Manu   34\n",
      "2  Vinu   23\n"
     ]
    }
   ],
   "source": [
    "#5. Delete a column\n",
    "#drop()\n",
    "\n",
    "df=pd.DataFrame({'ID':[1,2,3],'name':[\"Anu\",\"Manu\",\"Vinu\"],'age':[12,34,23]})\n",
    "df.drop(\"ID\",axis=1,inplace=True)\n",
    "print(df)"
   ]
  },
  {
   "cell_type": "code",
   "execution_count": 34,
   "id": "aabe1003-62c9-4939-b0b8-317e79106d34",
   "metadata": {},
   "outputs": [
    {
     "name": "stdout",
     "output_type": "stream",
     "text": [
      "   salary\n",
      "0   35000\n",
      "1   55000\n",
      "int64\n"
     ]
    }
   ],
   "source": [
    "#Converting Column Types\n",
    "#6. astype()\n",
    "\n",
    "df=pd.DataFrame({'salary':['35000','55000']})\n",
    "df['salary']=df['salary'].astype(int)\n",
    "print(df)\n",
    "print(df['salary'].dtypes)"
   ]
  },
  {
   "cell_type": "code",
   "execution_count": 39,
   "id": "8fe1f0d5-0f27-46f0-9c48-2e34b4b32614",
   "metadata": {},
   "outputs": [
    {
     "name": "stdout",
     "output_type": "stream",
     "text": [
      "object\n",
      "datetime64[ns]\n"
     ]
    },
    {
     "name": "stderr",
     "output_type": "stream",
     "text": [
      "C:\\Users\\Sheenu\\AppData\\Local\\Temp\\ipykernel_13420\\4199920680.py:3: UserWarning: Parsing dates in %d-%m-%Y format when dayfirst=False (the default) was specified. Pass `dayfirst=True` or specify a format to silence this warning.\n",
      "  df['Date']=pd.to_datetime(df['Date'])\n"
     ]
    }
   ],
   "source": [
    "df=pd.DataFrame({'Date':['24-03-2025','16-09-2025']})\n",
    "print(df['Date'].dtypes)\n",
    "df['Date']=pd.to_datetime(df['Date'])\n",
    "print(df['Date'].dtypes)"
   ]
  },
  {
   "cell_type": "code",
   "execution_count": 46,
   "id": "6ba49e37-55d6-478e-a162-cd05e905a69b",
   "metadata": {},
   "outputs": [
    {
     "name": "stdout",
     "output_type": "stream",
     "text": [
      "Renamed Columns: \n",
      "     Name  Age\n",
      "0  Alice   25\n"
     ]
    }
   ],
   "source": [
    "#Renaming columns\n",
    "#7. rename()\n",
    "\n",
    "df=pd.DataFrame({'emp_name':['Alice'],'emp_age':[25]})\n",
    "df.rename(columns={'emp_name':'Name','emp_age':'Age'},inplace=True)\n",
    "print(\"Renamed Columns: \\n\",df)\n"
   ]
  },
  {
   "cell_type": "code",
   "execution_count": null,
   "id": "0f52eba5-b6db-4443-b88e-9cda2972af67",
   "metadata": {},
   "outputs": [],
   "source": []
  }
 ],
 "metadata": {
  "kernelspec": {
   "display_name": "Python 3 (ipykernel)",
   "language": "python",
   "name": "python3"
  },
  "language_info": {
   "codemirror_mode": {
    "name": "ipython",
    "version": 3
   },
   "file_extension": ".py",
   "mimetype": "text/x-python",
   "name": "python",
   "nbconvert_exporter": "python",
   "pygments_lexer": "ipython3",
   "version": "3.13.5"
  }
 },
 "nbformat": 4,
 "nbformat_minor": 5
}
