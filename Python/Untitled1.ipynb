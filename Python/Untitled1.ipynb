{
 "cells": [
  {
   "cell_type": "code",
   "execution_count": 1,
   "id": "8acdc2c1-7aa5-4e02-9cd3-26f7db1ed39e",
   "metadata": {},
   "outputs": [
    {
     "name": "stdout",
     "output_type": "stream",
     "text": [
      "hello python\n"
     ]
    }
   ],
   "source": [
    "str=\"Hello Python\"\n",
    "print(str.lower())"
   ]
  },
  {
   "cell_type": "code",
   "execution_count": 2,
   "id": "6dbbd2a4-1733-46ad-ae74-d2d8daad15af",
   "metadata": {},
   "outputs": [
    {
     "name": "stdout",
     "output_type": "stream",
     "text": [
      "HELLO PYTHON\n"
     ]
    }
   ],
   "source": [
    "print(str.upper())"
   ]
  },
  {
   "cell_type": "code",
   "execution_count": 3,
   "id": "390699ab-26ac-4135-b725-b0c635329d75",
   "metadata": {},
   "outputs": [
    {
     "name": "stdout",
     "output_type": "stream",
     "text": [
      "2\n"
     ]
    }
   ],
   "source": [
    "print(str.count('o'))"
   ]
  },
  {
   "cell_type": "code",
   "execution_count": 5,
   "id": "20518df4-f58c-4666-acba-82ac1e30f367",
   "metadata": {},
   "outputs": [
    {
     "name": "stdout",
     "output_type": "stream",
     "text": [
      "4\n"
     ]
    }
   ],
   "source": [
    "print(str.find('o'))"
   ]
  },
  {
   "cell_type": "code",
   "execution_count": 6,
   "id": "06e541ee-f745-4b54-971c-208e5e384419",
   "metadata": {},
   "outputs": [
    {
     "name": "stdout",
     "output_type": "stream",
     "text": [
      "Hello World\n"
     ]
    }
   ],
   "source": [
    "print(str.replace('Python','World'))"
   ]
  },
  {
   "cell_type": "code",
   "execution_count": 7,
   "id": "6e2a4063-76be-4775-b281-aa1dbef20303",
   "metadata": {},
   "outputs": [
    {
     "name": "stdout",
     "output_type": "stream",
     "text": [
      "My name is Shabna hashim\n"
     ]
    }
   ],
   "source": [
    "a=\"Shabna\"\n",
    "b=\"hashim\"\n",
    "print(f'My name is {a} {b}')"
   ]
  },
  {
   "cell_type": "code",
   "execution_count": 8,
   "id": "5eb1527c-07b7-4889-a4f2-f7563a707192",
   "metadata": {},
   "outputs": [
    {
     "data": {
      "text/plain": [
       "True"
      ]
     },
     "execution_count": 8,
     "metadata": {},
     "output_type": "execute_result"
    }
   ],
   "source": [
    "\"Hello\" in str"
   ]
  },
  {
   "cell_type": "code",
   "execution_count": 9,
   "id": "01a78e7e-53cc-4496-84a7-d26b6ce90206",
   "metadata": {},
   "outputs": [
    {
     "data": {
      "text/plain": [
       "True"
      ]
     },
     "execution_count": 9,
     "metadata": {},
     "output_type": "execute_result"
    }
   ],
   "source": [
    "\"Python\" in str\n"
   ]
  },
  {
   "cell_type": "code",
   "execution_count": 10,
   "id": "768bc60d-591f-4276-ac23-e16599d32a9f",
   "metadata": {},
   "outputs": [
    {
     "data": {
      "text/plain": [
       "False"
      ]
     },
     "execution_count": 10,
     "metadata": {},
     "output_type": "execute_result"
    }
   ],
   "source": [
    "\"World\" in str\n"
   ]
  },
  {
   "cell_type": "code",
   "execution_count": 11,
   "id": "b22b2cd4-ab75-41d3-a809-52ffa48ec6de",
   "metadata": {},
   "outputs": [
    {
     "name": "stdin",
     "output_type": "stream",
     "text": [
      "Enter a String Hello World\n"
     ]
    },
    {
     "name": "stdout",
     "output_type": "stream",
     "text": [
      "dlroW olleH\n"
     ]
    }
   ],
   "source": [
    "str1=input(\"Enter a String\")\n",
    "str2=str1[::-1]\n",
    "print(str2)"
   ]
  },
  {
   "cell_type": "code",
   "execution_count": 15,
   "id": "6157192a-c8a2-4e2a-9e9f-b1f2b2bf7c3e",
   "metadata": {},
   "outputs": [
    {
     "name": "stdout",
     "output_type": "stream",
     "text": [
      "10\n"
     ]
    }
   ],
   "source": [
    "str3=\"Hi Im Shabna\"\n",
    "str4=str3.replace(\" \",\"\")\n",
    "print(len(str4))"
   ]
  },
  {
   "cell_type": "code",
   "execution_count": 18,
   "id": "65c726d1-3f53-4e41-93cc-07bcf98084f9",
   "metadata": {},
   "outputs": [
    {
     "name": "stdout",
     "output_type": "stream",
     "text": [
      "['Hello', 'Good', 'Morning']\n"
     ]
    }
   ],
   "source": [
    "str4=\"Hello Good Morning\"\n",
    "str5=str4.split()\n",
    "print(str5)"
   ]
  },
  {
   "cell_type": "code",
   "execution_count": 19,
   "id": "08e59c23-dd25-4980-b831-b15d6ec8cf2e",
   "metadata": {},
   "outputs": [
    {
     "name": "stdout",
     "output_type": "stream",
     "text": [
      "['apple', 'orange', 'banana', 'kiwi']\n"
     ]
    }
   ],
   "source": [
    "lis=['apple','orange','banana']\n",
    "lis.append('kiwi')\n",
    "print(lis)"
   ]
  },
  {
   "cell_type": "code",
   "execution_count": 27,
   "id": "9faea6cd-1458-41ad-9e5c-09610a98b4a4",
   "metadata": {},
   "outputs": [
    {
     "name": "stdout",
     "output_type": "stream",
     "text": [
      "apple\n"
     ]
    }
   ],
   "source": [
    "print(lis[0])"
   ]
  },
  {
   "cell_type": "code",
   "execution_count": 28,
   "id": "50f119ea-61b9-44e8-af28-2c104ed004dd",
   "metadata": {},
   "outputs": [
    {
     "name": "stdout",
     "output_type": "stream",
     "text": [
      "kiwi\n"
     ]
    }
   ],
   "source": [
    "print(lis[-1])"
   ]
  },
  {
   "cell_type": "code",
   "execution_count": 29,
   "id": "bd9f6e67-a606-4f36-b5a2-af91d785bd28",
   "metadata": {},
   "outputs": [
    {
     "name": "stdout",
     "output_type": "stream",
     "text": [
      "['kiwi', 'banana', 'orange', 'apple']\n"
     ]
    }
   ],
   "source": [
    "print(lis[::-1])"
   ]
  },
  {
   "cell_type": "code",
   "execution_count": 30,
   "id": "61b52b93-4f8d-4056-a708-2d5208f513f5",
   "metadata": {},
   "outputs": [
    {
     "name": "stdout",
     "output_type": "stream",
     "text": [
      "['apple', 'pop', 'orange', 'banana', 'kiwi']\n"
     ]
    }
   ],
   "source": [
    "lis.insert(1,\"pop\")\n",
    "print(lis)"
   ]
  },
  {
   "cell_type": "code",
   "execution_count": 31,
   "id": "1e8f5050-b34b-4832-9354-472e68e95fd5",
   "metadata": {},
   "outputs": [
    {
     "name": "stdout",
     "output_type": "stream",
     "text": [
      "['apple', 'orange', 'banana', 'kiwi']\n"
     ]
    }
   ],
   "source": [
    "lis.pop(1)\n",
    "print(lis)"
   ]
  },
  {
   "cell_type": "code",
   "execution_count": 32,
   "id": "5409f37f-9bcb-4ea9-aeed-b507319f652f",
   "metadata": {},
   "outputs": [
    {
     "name": "stdout",
     "output_type": "stream",
     "text": [
      "['apple', 'orange', 'kiwi']\n"
     ]
    }
   ],
   "source": [
    "lis.remove(\"banana\")\n",
    "print(lis)"
   ]
  },
  {
   "cell_type": "code",
   "execution_count": 38,
   "id": "97527623-3b17-48ab-9f03-2126bb357057",
   "metadata": {},
   "outputs": [
    {
     "name": "stdout",
     "output_type": "stream",
     "text": [
      "1\n"
     ]
    }
   ],
   "source": [
    "tu=(1,2,3)\n",
    "print(tu[0])"
   ]
  },
  {
   "cell_type": "code",
   "execution_count": 41,
   "id": "d93a59b3-a0eb-48d4-81c1-99b8746d1f8e",
   "metadata": {},
   "outputs": [
    {
     "name": "stdout",
     "output_type": "stream",
     "text": [
      "3\n"
     ]
    }
   ],
   "source": [
    "tu=(1,2,3)\n",
    "print(tu[2])"
   ]
  },
  {
   "cell_type": "code",
   "execution_count": 46,
   "id": "a401dab3-6c6c-4426-9541-5780720e7379",
   "metadata": {},
   "outputs": [
    {
     "name": "stdout",
     "output_type": "stream",
     "text": [
      "1\n"
     ]
    }
   ],
   "source": [
    "tu1=(1,2,3,2)\n",
    "print(tu1.index(2))"
   ]
  },
  {
   "cell_type": "code",
   "execution_count": 47,
   "id": "daaf22c1-02e4-4058-b436-26fd4c2d7b3b",
   "metadata": {},
   "outputs": [
    {
     "name": "stdout",
     "output_type": "stream",
     "text": [
      "2\n"
     ]
    }
   ],
   "source": [
    "print(tu1.count(2))"
   ]
  },
  {
   "cell_type": "code",
   "execution_count": 48,
   "id": "31b51f7a-77dc-43f1-86dc-994a1a08aa67",
   "metadata": {},
   "outputs": [
    {
     "data": {
      "text/plain": [
       "<zip at 0x20208107a40>"
      ]
     },
     "execution_count": 48,
     "metadata": {},
     "output_type": "execute_result"
    }
   ],
   "source": [
    "li1=[1,2,3]\n",
    "li2=[4,5,6]\n",
    "zip(li1,li2)"
   ]
  },
  {
   "cell_type": "code",
   "execution_count": 49,
   "id": "d287ff2a-868f-448b-985a-0b3e0c47d7a3",
   "metadata": {},
   "outputs": [
    {
     "name": "stdout",
     "output_type": "stream",
     "text": [
      "[(1, 4), (2, 5), (3, 6)]\n"
     ]
    }
   ],
   "source": [
    "li3=list(zip(li1,li2))\n",
    "print(li3)"
   ]
  },
  {
   "cell_type": "code",
   "execution_count": 55,
   "id": "3e5b2225-653e-4b5c-bcd1-2a110fc63bc3",
   "metadata": {},
   "outputs": [
    {
     "name": "stdout",
     "output_type": "stream",
     "text": [
      "String is not palindrome\n"
     ]
    }
   ],
   "source": [
    "word=\"malayalam\"\n",
    "newword=word[::-1]\n",
    "\n",
    "if word==newword:\n",
    "    print(\"String is palindrome\")\n",
    "else:\n",
    "    print(\"String is not palindrome\")"
   ]
  },
  {
   "cell_type": "code",
   "execution_count": 1,
   "id": "795d9f46-ceb6-41ef-876f-1edb90bffd93",
   "metadata": {},
   "outputs": [
    {
     "name": "stdout",
     "output_type": "stream",
     "text": [
      "1\n",
      "2\n",
      "3\n",
      "4\n"
     ]
    }
   ],
   "source": [
    "lis=[1,2,3,4]\n",
    "for i in lis:\n",
    "    print(i)"
   ]
  },
  {
   "cell_type": "code",
   "execution_count": 8,
   "id": "3512fa6d-daee-429d-8312-9828284dc01e",
   "metadata": {},
   "outputs": [
    {
     "name": "stdout",
     "output_type": "stream",
     "text": [
      "orange\n",
      "apple\n",
      "banana\n"
     ]
    }
   ],
   "source": [
    "list1=[\"orange\",\"apple\",\"banana\"]\n",
    "for i in list1:\n",
    "    print(i)"
   ]
  },
  {
   "cell_type": "code",
   "execution_count": 15,
   "id": "3a16007e-b1dd-4d25-9dc4-c60e56d5b56a",
   "metadata": {},
   "outputs": [
    {
     "name": "stdout",
     "output_type": "stream",
     "text": [
      "Square of 1 is 16\n",
      "Square of 2 is 16\n",
      "Square of 3 is 16\n",
      "Square of 4 is 16\n",
      "None\n"
     ]
    }
   ],
   "source": [
    "l=[1,2,3,4]\n",
    "new=[]\n",
    "for i in l:\n",
    "    sq=i**2\n",
    "    print(f\"Square of {i} is {sqr}\")\n",
    "new=l.append(sq)\n",
    "print(new)"
   ]
  },
  {
   "cell_type": "code",
   "execution_count": 16,
   "id": "5f3385a8-59ce-446f-9524-a1c72da1d673",
   "metadata": {},
   "outputs": [
    {
     "name": "stdout",
     "output_type": "stream",
     "text": [
      "{1: 8, 2: 5, 3: 7, 4: 9}\n"
     ]
    }
   ],
   "source": [
    "l1=[1,2,3,4]\n",
    "l2=[8,5,7,9]\n",
    "dictnew=dict(zip(l1,l2))\n",
    "print(dictnew)"
   ]
  },
  {
   "cell_type": "code",
   "execution_count": 21,
   "id": "28b43828-be02-4897-adaa-eda4c8c61914",
   "metadata": {},
   "outputs": [
    {
     "name": "stdout",
     "output_type": "stream",
     "text": [
      "odd\n",
      "Square of 2 is 16\n",
      "odd\n",
      "Square of 4 is 16\n",
      "odd\n",
      "Square of 6 is 16\n",
      "odd\n",
      "Square of 8 is 16\n",
      "odd\n",
      "None\n"
     ]
    }
   ],
   "source": [
    "listr=[1,2,3,4,5,6,7,8,9]\n",
    "newl=[]\n",
    "for i in listr:\n",
    "    if i%2==0:\n",
    "        sq=i**2\n",
    "        print(f\"Square of {i} is {sqr}\")\n",
    "    \n",
    "    else:\n",
    "        print(\"odd\")\n",
    "newl=listr.append(sq)\n",
    "print(newl)"
   ]
  },
  {
   "cell_type": "code",
   "execution_count": 24,
   "id": "305fe728-899e-4835-85d9-26a56a61d6d6",
   "metadata": {},
   "outputs": [
    {
     "name": "stdout",
     "output_type": "stream",
     "text": [
      "2\n",
      "4\n",
      "6\n",
      "8\n"
     ]
    }
   ],
   "source": [
    "for i in range(2,10,2):\n",
    "    print(i)"
   ]
  },
  {
   "cell_type": "code",
   "execution_count": 25,
   "id": "29e41930-a1b4-43a9-92fb-16930ab8a333",
   "metadata": {},
   "outputs": [
    {
     "name": "stdout",
     "output_type": "stream",
     "text": [
      "4\n",
      "25\n",
      "64\n"
     ]
    }
   ],
   "source": [
    "for i in range(2,10,3):\n",
    "    s=i**2\n",
    "    print(s)"
   ]
  },
  {
   "cell_type": "code",
   "execution_count": 26,
   "id": "3b6f68e8-a7db-463b-a166-0d061e418127",
   "metadata": {},
   "outputs": [
    {
     "name": "stdout",
     "output_type": "stream",
     "text": [
      "['It', 'is', 'a', 'sentence']\n"
     ]
    }
   ],
   "source": [
    "word=\"It is a sentence\"\n",
    "new=word.split()\n",
    "print(new)"
   ]
  },
  {
   "cell_type": "code",
   "execution_count": 27,
   "id": "3d3cceb4-a2ed-448e-9443-7f122676f8f2",
   "metadata": {},
   "outputs": [
    {
     "name": "stdout",
     "output_type": "stream",
     "text": [
      "[1, 4, 1156, 16]\n"
     ]
    }
   ],
   "source": [
    "ll=[1,2,34,4]\n",
    "new=[i**2 for i in ll]\n",
    "print(new)"
   ]
  },
  {
   "cell_type": "code",
   "execution_count": 28,
   "id": "d3aa2abb-5a5a-4c05-af5f-b222f185864f",
   "metadata": {},
   "outputs": [
    {
     "name": "stdout",
     "output_type": "stream",
     "text": [
      "[True, 4, True, 16, 3136, True]\n"
     ]
    }
   ],
   "source": [
    "list6=[1,2,3,4,56,9]\n",
    "newl=[i**2 if i%2==0 else i%2!=0 for i in list6]\n",
    "print(newl)"
   ]
  },
  {
   "cell_type": "code",
   "execution_count": 29,
   "id": "95d02430-72ec-43f6-a2b1-970003708215",
   "metadata": {},
   "outputs": [
    {
     "name": "stdout",
     "output_type": "stream",
     "text": [
      "[4, 16, 3136]\n"
     ]
    }
   ],
   "source": [
    "newll=[i**2 for i in list6 if i%2==0]\n",
    "print(newll)"
   ]
  },
  {
   "cell_type": "code",
   "execution_count": 15,
   "id": "8ae294db-967c-4fea-b5fd-dd04db9c4cd8",
   "metadata": {},
   "outputs": [
    {
     "name": "stdout",
     "output_type": "stream",
     "text": [
      "Deposited amount is 500 , Available Balance is 1500\n",
      "No available balance\n"
     ]
    }
   ],
   "source": [
    "class Bank:\n",
    "    def __init__(self,accountholder,bal=0):\n",
    "        self.accountholder=accountholder\n",
    "        self.bal=bal\n",
    "    def deposit(self,amount):\n",
    "        if amount>0:\n",
    "            self.bal=self.bal+amount\n",
    "            print(f\"Deposited amount is {amount} , Available Balance is {self.bal}\")\n",
    "        else:\n",
    "            print(f\"Enter correct digit\")    \n",
    "        \n",
    "    def withdraw(self,amount):\n",
    "        if amount>0:\n",
    "            if amount<=self.bal: \n",
    "                self.bal=self.bal-amount\n",
    "                print(f\"Withdraw amount is {amount} , Available Balance is {self.bal}\")\n",
    "            else:\n",
    "                print(\"No available balance\")\n",
    "obj=Bank(\"Shabna\",1000)\n",
    "obj.deposit(500)\n",
    "obj.withdraw(2000)\n"
   ]
  },
  {
   "cell_type": "code",
   "execution_count": 20,
   "id": "64831b65-b7fa-4682-821d-441609a11693",
   "metadata": {},
   "outputs": [
    {
     "name": "stdout",
     "output_type": "stream",
     "text": [
      "Word is palindrome\n"
     ]
    }
   ],
   "source": [
    "def palindrome(word):\n",
    "    word=word.lower()\n",
    "    new=word[::-1]\n",
    "    if word==new:\n",
    "        print(\"Word is palindrome\")\n",
    "    else:\n",
    "        print(\"Not Palindrome\")\n",
    "palindrome(\"Malayalam\")\n"
   ]
  },
  {
   "cell_type": "code",
   "execution_count": 2,
   "id": "d3b49fe3-2221-4a33-9f1f-7e3e1eff9667",
   "metadata": {},
   "outputs": [
    {
     "data": {
      "text/plain": [
       "{1: 2, 2: 2, 3: 1}"
      ]
     },
     "execution_count": 2,
     "metadata": {},
     "output_type": "execute_result"
    }
   ],
   "source": [
    "def count_freq(elements):\n",
    "    new={}\n",
    "    for i in elements:\n",
    "        if i in new:\n",
    "            new[i]+=1\n",
    "        else:\n",
    "            new[i]=1\n",
    "    return new\n",
    "count_freq([1,2,3,1,2])\n",
    "            \n",
    "            "
   ]
  },
  {
   "cell_type": "code",
   "execution_count": 31,
   "id": "3b669429-c84f-42d9-9ac1-cd9ec426d274",
   "metadata": {},
   "outputs": [
    {
     "name": "stdout",
     "output_type": "stream",
     "text": [
      "[1, 2, 3]\n"
     ]
    }
   ],
   "source": [
    "l=[1,2,3,2]\n",
    "la=[]\n",
    "for i in l:\n",
    "    if i not in la:\n",
    "        la.append(i)\n",
    "print(la)        \n",
    "        "
   ]
  },
  {
   "cell_type": "code",
   "execution_count": null,
   "id": "a724bede-e9b4-4b66-ae75-0f496abfc234",
   "metadata": {},
   "outputs": [],
   "source": []
  }
 ],
 "metadata": {
  "kernelspec": {
   "display_name": "Python 3 (ipykernel)",
   "language": "python",
   "name": "python3"
  },
  "language_info": {
   "codemirror_mode": {
    "name": "ipython",
    "version": 3
   },
   "file_extension": ".py",
   "mimetype": "text/x-python",
   "name": "python",
   "nbconvert_exporter": "python",
   "pygments_lexer": "ipython3",
   "version": "3.13.5"
  }
 },
 "nbformat": 4,
 "nbformat_minor": 5
}
