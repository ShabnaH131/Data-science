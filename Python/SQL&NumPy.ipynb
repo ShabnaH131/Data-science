{
 "cells": [
  {
   "cell_type": "code",
   "execution_count": 22,
   "id": "0c1da58c-796a-436d-99fd-d9c2a87ed22c",
   "metadata": {},
   "outputs": [
    {
     "name": "stdout",
     "output_type": "stream",
     "text": [
      "(1, 'Shabna', 25)\n",
      "(2, 'Sheenu', 28)\n"
     ]
    }
   ],
   "source": [
    "import sqlite3\n",
    "\n",
    "# Connect to database (or create it)\n",
    "conn = sqlite3.connect('USERS1.db')\n",
    "curs = conn.cursor()\n",
    "\n",
    "# Create table if it doesn't exist\n",
    "curs.execute(\"\"\"\n",
    "CREATE TABLE IF NOT EXISTS USERS1 (\n",
    "    ID INTEGER PRIMARY KEY AUTOINCREMENT , \n",
    "    NAME TEXT NOT NULL,\n",
    "    AGE INTEGER NOT NULL\n",
    ")\n",
    "\"\"\")\n",
    "\n",
    "# Insert records (ID will auto-increment if not provided)\n",
    "curs.execute(\"INSERT INTO USERS1 (ID, NAME, AGE) VALUES (?, ?, ?)\", (1, \"Shabna\", 25))\n",
    "curs.execute(\"INSERT INTO USERS1 (ID, NAME, AGE) VALUES (?, ?, ?)\", (2, \"Sheenu\", 28))\n",
    "\n",
    "# Commit changes\n",
    "conn.commit()\n",
    "\n",
    "# Fetch and display all records\n",
    "curs.execute(\"SELECT * FROM USERS1\")\n",
    "rows = curs.fetchall()\n",
    "for row in rows:\n",
    "    print(row)\n",
    "\n",
    "# Close connection\n",
    "conn.close()\n"
   ]
  },
  {
   "cell_type": "code",
   "execution_count": 1,
   "id": "2cc68513-97aa-422f-a5d8-ac5e0bd3c27c",
   "metadata": {},
   "outputs": [
    {
     "name": "stdout",
     "output_type": "stream",
     "text": [
      "[1 2 3 4 5]\n"
     ]
    }
   ],
   "source": [
    "import numpy as np\n",
    "new=np.array([1,2,3,4,5])\n",
    "print(new)"
   ]
  },
  {
   "cell_type": "code",
   "execution_count": 3,
   "id": "f27a8288-c04f-4005-b529-b38bfb52b968",
   "metadata": {},
   "outputs": [
    {
     "name": "stdout",
     "output_type": "stream",
     "text": [
      "(5,)\n"
     ]
    }
   ],
   "source": [
    "print(new.shape)"
   ]
  },
  {
   "cell_type": "code",
   "execution_count": 5,
   "id": "338b4577-10dc-4ddc-a79d-5dfe986269cc",
   "metadata": {},
   "outputs": [
    {
     "name": "stdout",
     "output_type": "stream",
     "text": [
      "[[1 2]\n",
      " [3 4]]\n",
      "(2, 2)\n"
     ]
    }
   ],
   "source": [
    "d2=np.array([[1,2],[3,4]])\n",
    "print(d2)\n",
    "print(d2.shape)"
   ]
  },
  {
   "cell_type": "code",
   "execution_count": 8,
   "id": "8f57f4fd-8189-49c9-863d-1cd74647ea2e",
   "metadata": {},
   "outputs": [
    {
     "name": "stdout",
     "output_type": "stream",
     "text": [
      "[[[1 2]\n",
      "  [3 4]]\n",
      "\n",
      " [[3 7]\n",
      "  [5 6]]]\n",
      "(2, 2, 2)\n"
     ]
    }
   ],
   "source": [
    "d3=np.array([[[1,2],[3,4]],[[3,7],[5,6]]])\n",
    "print(d3)\n",
    "print(d3.shape)"
   ]
  },
  {
   "cell_type": "code",
   "execution_count": 9,
   "id": "c0b513ad-a68a-4d4c-a448-df570cc77d4e",
   "metadata": {},
   "outputs": [
    {
     "name": "stdout",
     "output_type": "stream",
     "text": [
      "[[[[4 3 9 4]\n",
      "   [9 6 6 7]\n",
      "   [1 7 6 6]]\n",
      "\n",
      "  [[3 1 1 9]\n",
      "   [8 5 7 3]\n",
      "   [9 7 5 9]]]\n",
      "\n",
      "\n",
      " [[[8 2 2 3]\n",
      "   [6 6 2 3]\n",
      "   [2 2 1 9]]\n",
      "\n",
      "  [[5 4 5 7]\n",
      "   [2 7 9 2]\n",
      "   [4 4 1 4]]]]\n"
     ]
    }
   ],
   "source": [
    "var=np.random.randint(1,10,size=(2,2,3,4))\n",
    "print(var)\n"
   ]
  },
  {
   "cell_type": "code",
   "execution_count": 10,
   "id": "c2c2525a-0066-4573-acb3-d124d2baa58b",
   "metadata": {},
   "outputs": [
    {
     "name": "stdout",
     "output_type": "stream",
     "text": [
      "(2, 2, 3, 4)\n"
     ]
    }
   ],
   "source": [
    "print(var.shape)"
   ]
  },
  {
   "cell_type": "code",
   "execution_count": 13,
   "id": "a65934e2-04e7-479f-b5a7-95680a10c3cd",
   "metadata": {},
   "outputs": [
    {
     "name": "stdout",
     "output_type": "stream",
     "text": [
      "[[76 79 88 36 25]\n",
      " [10 50 50 92 13]\n",
      " [95  5 43 29 43]]\n"
     ]
    }
   ],
   "source": [
    "from numpy import random\n",
    "x=random.randint(1,100,size=(3,5))\n",
    "print(x)"
   ]
  },
  {
   "cell_type": "code",
   "execution_count": 14,
   "id": "ceed3911-f982-4f07-bd06-c7aafa105aa0",
   "metadata": {},
   "outputs": [
    {
     "name": "stdout",
     "output_type": "stream",
     "text": [
      "[1, 2, 3, 4, 1, 2, 3, 4]\n",
      "[2 4 6 8]\n"
     ]
    }
   ],
   "source": [
    "py_li=[1,2,3,4]\n",
    "np_array=np.array([1,2,3,4])\n",
    "print(py_li*2)\n",
    "print(np_array*2)"
   ]
  },
  {
   "cell_type": "code",
   "execution_count": null,
   "id": "50f18ab7-9d1a-4b8c-99c3-d1e4e14f7b32",
   "metadata": {},
   "outputs": [],
   "source": [
    "#Array Inspection"
   ]
  },
  {
   "cell_type": "code",
   "execution_count": 15,
   "id": "872364b5-64fd-45b6-b7c7-83ef9a2269a9",
   "metadata": {},
   "outputs": [
    {
     "name": "stdout",
     "output_type": "stream",
     "text": [
      "(2, 2)\n"
     ]
    }
   ],
   "source": [
    "#1. shape\n",
    "y=np.array([[1,2],[3,4]])\n",
    "print(y.shape)"
   ]
  },
  {
   "cell_type": "code",
   "execution_count": 18,
   "id": "1d6cd9d9-1870-4324-98e6-b1333f9d09da",
   "metadata": {},
   "outputs": [
    {
     "name": "stdout",
     "output_type": "stream",
     "text": [
      "2\n",
      "1\n",
      "3\n"
     ]
    }
   ],
   "source": [
    "#2. ndim\n",
    "z=np.array([1,2,3,4])\n",
    "w=np.array([[[1,2],[3,4],[5,6]]])\n",
    "print(y.ndim)\n",
    "print(z.ndim)\n",
    "print(w.ndim)"
   ]
  },
  {
   "cell_type": "code",
   "execution_count": 20,
   "id": "ee0d5728-4c11-4bd3-b6ae-5d89ba0e0763",
   "metadata": {},
   "outputs": [
    {
     "name": "stdout",
     "output_type": "stream",
     "text": [
      "6\n",
      "4\n",
      "4\n"
     ]
    }
   ],
   "source": [
    "#3. size\n",
    "print(w.size)\n",
    "print(z.size)\n",
    "print(y.size)"
   ]
  },
  {
   "cell_type": "code",
   "execution_count": 21,
   "id": "2e522552-d797-47af-a764-b646427ddb0b",
   "metadata": {},
   "outputs": [
    {
     "name": "stdout",
     "output_type": "stream",
     "text": [
      "int64\n"
     ]
    }
   ],
   "source": [
    "#4. dtype\n",
    "print(w.dtype)"
   ]
  },
  {
   "cell_type": "code",
   "execution_count": 22,
   "id": "b423a827-57a8-4880-bfe3-606e5c422166",
   "metadata": {},
   "outputs": [
    {
     "name": "stdout",
     "output_type": "stream",
     "text": [
      "<U1\n"
     ]
    }
   ],
   "source": [
    "str=np.array(['a','b','c','d'])\n",
    "print(str.dtype)"
   ]
  },
  {
   "cell_type": "code",
   "execution_count": 23,
   "id": "648329c2-6e54-4ab8-bec2-b03f86c20c82",
   "metadata": {},
   "outputs": [
    {
     "name": "stdout",
     "output_type": "stream",
     "text": [
      "float64\n"
     ]
    }
   ],
   "source": [
    "fl=np.array([1.2,3.0,9.8])\n",
    "print(fl.dtype)"
   ]
  },
  {
   "cell_type": "code",
   "execution_count": 26,
   "id": "07c53d84-67f1-47c5-a49d-2efa1c116f81",
   "metadata": {},
   "outputs": [
    {
     "name": "stdout",
     "output_type": "stream",
     "text": [
      "[1.2 3.  9.8]\n",
      "[1 3 9]\n",
      "int64\n"
     ]
    }
   ],
   "source": [
    "#5. astype\n",
    "fl=np.array([1.2,3.0,9.8])\n",
    "print(fl)\n",
    "flnew=fl.astype('int64')\n",
    "print(flnew)\n",
    "print(flnew.dtype)"
   ]
  },
  {
   "cell_type": "code",
   "execution_count": 33,
   "id": "1e25ed56-23de-4db6-82b5-b7a084d2bb36",
   "metadata": {},
   "outputs": [
    {
     "name": "stdout",
     "output_type": "stream",
     "text": [
      "Size of each elements in a list in bytes 104\n",
      "Size of whole elements in a list in bytes 624\n",
      "Size of each elements in an array in bytes 8\n",
      "Size of whole elements in an array in bytes 48\n"
     ]
    }
   ],
   "source": [
    "import sys\n",
    "np_list=[1,2,3,4,5,6]\n",
    "np_array=np.array([1,2,3,4,5,6])\n",
    "print(\"Size of each elements in a list in bytes\",sys.getsizeof(np_list))\n",
    "print(\"Size of whole elements in a list in bytes\",sys.getsizeof(np_list)*len(np_list))\n",
    "print(\"Size of each elements in an array in bytes\",np_array.itemsize)\n",
    "print(\"Size of whole elements in an array in bytes\",np_array.itemsize*np_array.size)"
   ]
  },
  {
   "cell_type": "code",
   "execution_count": 11,
   "id": "c08aee1d-2cce-4ae5-908e-532a62a4e582",
   "metadata": {},
   "outputs": [
    {
     "name": "stdout",
     "output_type": "stream",
     "text": [
      "Time taken by Lists to perform multiplication: 0.009866476058959961 seconds\n",
      "Time taken by NumPy Arrays to perform multiplication: 0.0006954669952392578 seconds\n"
     ]
    }
   ],
   "source": [
    "import numpy as np\n",
    "import time\n",
    "\n",
    "# size of arrays and lists\n",
    "size = 100000\n",
    "\n",
    "# declaring lists\n",
    "list1 = range(size)\n",
    "list2 = range(size)\n",
    "\n",
    "# declaring arrays\n",
    "array1 = np.arange(size)\n",
    "array2 = np.arange(size)\n",
    "\n",
    "# capturing time before the multiplication of Python lists\n",
    "initialTime = time.time()\n",
    "\n",
    "# multiplying  elements of both the lists and stored in another list\n",
    "resultantList = [(a * b) for a, b in zip(list1, list2)]\n",
    "\n",
    "# calculating execution time\n",
    "print(\"Time taken by Lists to perform multiplication:\",\n",
    "      (time.time() - initialTime),\n",
    "      \"seconds\")\n",
    "\n",
    "# capturing time before the multiplication of Numpy arrays\n",
    "initialTime = time.time()\n",
    "\n",
    "# multiplying  elements of both the Numpy arrays and stored in another Numpy array\n",
    "resultantArray = array1 * array2\n",
    "\n",
    "# calculating execution time\n",
    "print(\"Time taken by NumPy Arrays to perform multiplication:\",\n",
    "      (time.time() - initialTime),\n",
    "      \"seconds\")"
   ]
  },
  {
   "cell_type": "code",
   "execution_count": 39,
   "id": "056d61c3-1cb0-48f9-9dfa-f147efacfbc6",
   "metadata": {},
   "outputs": [
    {
     "name": "stdout",
     "output_type": "stream",
     "text": [
      "[[0. 0. 0.]\n",
      " [0. 0. 0.]\n",
      " [0. 0. 0.]]\n"
     ]
    }
   ],
   "source": [
    "#Different ways of creating an ndarray\n",
    "#1. zeros\n",
    "\n",
    "ar1=np.zeros((3,3))\n",
    "print(ar1)"
   ]
  },
  {
   "cell_type": "code",
   "execution_count": 40,
   "id": "41c6692c-b0a5-4296-a789-63bda06fb26e",
   "metadata": {},
   "outputs": [
    {
     "name": "stdout",
     "output_type": "stream",
     "text": [
      "[[0 0 0]\n",
      " [0 0 0]\n",
      " [0 0 0]]\n"
     ]
    }
   ],
   "source": [
    "ar1=np.zeros((3,3),dtype=int)\n",
    "print(ar1)"
   ]
  },
  {
   "cell_type": "code",
   "execution_count": 41,
   "id": "8c421fb2-b7c4-4203-a7a5-7c027a95210f",
   "metadata": {},
   "outputs": [
    {
     "name": "stdout",
     "output_type": "stream",
     "text": [
      "[[1. 1.]\n",
      " [1. 1.]]\n"
     ]
    }
   ],
   "source": [
    "#2. ones\n",
    "\n",
    "ar2=np.ones((2,2))\n",
    "print(ar2)"
   ]
  },
  {
   "cell_type": "code",
   "execution_count": 42,
   "id": "842df08b-70ab-4b59-847d-57f65561ab8a",
   "metadata": {},
   "outputs": [
    {
     "name": "stdout",
     "output_type": "stream",
     "text": [
      "[[1 1]\n",
      " [1 1]]\n"
     ]
    }
   ],
   "source": [
    "ar2=np.ones((2,2),dtype=int)\n",
    "print(ar2)"
   ]
  },
  {
   "cell_type": "code",
   "execution_count": 43,
   "id": "8539b393-b75d-482a-bb69-ffbf163524c9",
   "metadata": {},
   "outputs": [
    {
     "name": "stdout",
     "output_type": "stream",
     "text": [
      "[0 1 2]\n"
     ]
    }
   ],
   "source": [
    "#3. arange\n",
    "\n",
    "ar3=np.arange(3)\n",
    "print(ar3)"
   ]
  },
  {
   "cell_type": "code",
   "execution_count": 44,
   "id": "68b1cf5b-ae04-4546-88bd-3b6c79406bf4",
   "metadata": {},
   "outputs": [
    {
     "name": "stdout",
     "output_type": "stream",
     "text": [
      "[0 1 2 3 4 5 6 7 8 9]\n"
     ]
    }
   ],
   "source": [
    "ar4=np.arange(10)\n",
    "print(ar4)"
   ]
  },
  {
   "cell_type": "code",
   "execution_count": 45,
   "id": "f4318a8b-b121-49d9-bcbd-258a78f6d981",
   "metadata": {},
   "outputs": [
    {
     "name": "stdout",
     "output_type": "stream",
     "text": [
      "[[10 10]\n",
      " [10 10]]\n"
     ]
    }
   ],
   "source": [
    "#4. full\n",
    "\n",
    "ar5=np.full((2,2),10)\n",
    "print(ar5)"
   ]
  },
  {
   "cell_type": "code",
   "execution_count": 46,
   "id": "86e81236-80bb-43b3-81ad-2f3fbd34a3eb",
   "metadata": {},
   "outputs": [
    {
     "name": "stdout",
     "output_type": "stream",
     "text": [
      "[[2 2 2]\n",
      " [2 2 2]\n",
      " [2 2 2]]\n"
     ]
    }
   ],
   "source": [
    "ar6=np.full((3,3),2)\n",
    "print(ar6)"
   ]
  },
  {
   "cell_type": "code",
   "execution_count": 50,
   "id": "49a1e1f6-1ae7-4617-a84b-57fca6ff60f9",
   "metadata": {},
   "outputs": [
    {
     "name": "stdout",
     "output_type": "stream",
     "text": [
      "[[1 0 0 0]\n",
      " [0 1 0 0]\n",
      " [0 0 1 0]\n",
      " [0 0 0 1]]\n"
     ]
    }
   ],
   "source": [
    "#5. identity\n",
    "\n",
    "ar7=np.identity((4),dtype=int)\n",
    "print(ar7)"
   ]
  },
  {
   "cell_type": "code",
   "execution_count": 51,
   "id": "3f64664e-556c-475a-a2b0-854e3390b7f3",
   "metadata": {},
   "outputs": [
    {
     "name": "stdout",
     "output_type": "stream",
     "text": [
      "[[1. 0. 0. 0.]\n",
      " [0. 1. 0. 0.]\n",
      " [0. 0. 1. 0.]\n",
      " [0. 0. 0. 1.]]\n"
     ]
    }
   ],
   "source": [
    "ar7=np.identity((4))\n",
    "print(ar7)"
   ]
  },
  {
   "cell_type": "code",
   "execution_count": 5,
   "id": "72d79708-1ae2-43fe-a022-b2522c6a5a2d",
   "metadata": {},
   "outputs": [
    {
     "name": "stdout",
     "output_type": "stream",
     "text": [
      "[1 2 3]\n"
     ]
    },
    {
     "data": {
      "text/plain": [
       "array([1, 2, 3])"
      ]
     },
     "execution_count": 5,
     "metadata": {},
     "output_type": "execute_result"
    }
   ],
   "source": [
    "\n",
    "lis=[1,2,3]\n",
    "ar1=np.asarray(lis)\n",
    "print(ar1)\n",
    "ar1"
   ]
  },
  {
   "cell_type": "code",
   "execution_count": 4,
   "id": "ffa5024e-b432-4643-a6ac-ac45cb4d59cc",
   "metadata": {},
   "outputs": [
    {
     "data": {
      "text/plain": [
       "array([1, 2, 3])"
      ]
     },
     "execution_count": 4,
     "metadata": {},
     "output_type": "execute_result"
    }
   ],
   "source": [
    "tup=(1,2,3)\n",
    "ar2=np.asarray(tup)\n",
    "ar2"
   ]
  },
  {
   "cell_type": "code",
   "execution_count": 9,
   "id": "1f32b78f-2098-4e49-8e3c-acec03c0f077",
   "metadata": {},
   "outputs": [
    {
     "name": "stdout",
     "output_type": "stream",
     "text": [
      "[2 3 4 5 6 7 8 9]\n",
      "[1 2 3 4 5 6 7 8]\n",
      "[0 3 6 9]\n"
     ]
    }
   ],
   "source": [
    "#Array Slicing & Indexing\n",
    "#1D Array\n",
    "\n",
    "a=np.arange(10)\n",
    "print(a[2:])\n",
    "print(a[1:9])\n",
    "print(a[::3])\n"
   ]
  },
  {
   "cell_type": "code",
   "execution_count": 14,
   "id": "ebc6d4b0-fd7d-4910-af26-b70e48069c5a",
   "metadata": {},
   "outputs": [
    {
     "name": "stdout",
     "output_type": "stream",
     "text": [
      "[0.48590042 0.38069289 0.03376708 0.62681911 0.76775111 0.10191366\n",
      " 0.91966813 0.79765939]\n"
     ]
    }
   ],
   "source": [
    "b=np.random.random(10)\n",
    "print(b[:8])\n"
   ]
  },
  {
   "cell_type": "code",
   "execution_count": 16,
   "id": "654f074b-a13f-4b02-a7d6-5193c43ead58",
   "metadata": {},
   "outputs": [
    {
     "name": "stdout",
     "output_type": "stream",
     "text": [
      "[[1 2 3]\n",
      " [4 5 6]]\n"
     ]
    }
   ],
   "source": [
    "#2D array slicing\n",
    "\n",
    "c=np.array([[1,2,3],[4,5,6]])\n",
    "print(c[0:2])"
   ]
  },
  {
   "cell_type": "code",
   "execution_count": 19,
   "id": "3069b17d-4503-44a8-b698-bd5b73a2ffe1",
   "metadata": {},
   "outputs": [
    {
     "name": "stdout",
     "output_type": "stream",
     "text": [
      "[[4 5 6]]\n"
     ]
    }
   ],
   "source": [
    "print(c[1:])"
   ]
  },
  {
   "cell_type": "code",
   "execution_count": 21,
   "id": "12bf70bc-0604-4301-b8a6-7d410f438326",
   "metadata": {},
   "outputs": [
    {
     "name": "stdout",
     "output_type": "stream",
     "text": [
      "[[2 3]\n",
      " [5 6]]\n"
     ]
    }
   ],
   "source": [
    "print(c[0:2,-2:])"
   ]
  },
  {
   "cell_type": "code",
   "execution_count": 23,
   "id": "4dcc533d-873d-40a8-8c84-c2efe1198521",
   "metadata": {},
   "outputs": [
    {
     "name": "stdout",
     "output_type": "stream",
     "text": [
      "6\n"
     ]
    }
   ],
   "source": [
    "print(c[1,2])"
   ]
  },
  {
   "cell_type": "code",
   "execution_count": 30,
   "id": "c9a9c7ba-9aff-4341-85fd-0431a2be3d27",
   "metadata": {},
   "outputs": [
    {
     "name": "stdout",
     "output_type": "stream",
     "text": [
      "[[[3 7]\n",
      "  [5 0]\n",
      "  [1 3]]\n",
      "\n",
      " [[5 2]\n",
      "  [5 7]\n",
      "  [7 3]]\n",
      "\n",
      " [[6 7]\n",
      "  [3 1]\n",
      "  [4 1]]]\n"
     ]
    }
   ],
   "source": [
    "#3D array Slicing\n",
    "var1=np.random.randint(9,size=(3,3,2))\n",
    "print(var1)\n"
   ]
  },
  {
   "cell_type": "code",
   "execution_count": 31,
   "id": "e7eea727-d37f-4f62-9a94-2a74aae86e4a",
   "metadata": {},
   "outputs": [
    {
     "name": "stdout",
     "output_type": "stream",
     "text": [
      "[[[3 7]\n",
      "  [5 0]\n",
      "  [1 3]]\n",
      "\n",
      " [[5 2]\n",
      "  [5 7]\n",
      "  [7 3]]]\n"
     ]
    }
   ],
   "source": [
    "print(var1[0:2])"
   ]
  },
  {
   "cell_type": "code",
   "execution_count": 43,
   "id": "9cb1c52b-7e21-48c3-9d8b-cb652ff972d8",
   "metadata": {},
   "outputs": [
    {
     "name": "stdout",
     "output_type": "stream",
     "text": [
      "[[[5 0]\n",
      "  [1 3]]\n",
      "\n",
      " [[5 7]\n",
      "  [7 3]]]\n"
     ]
    }
   ],
   "source": [
    "print(var1[0:2,1:])"
   ]
  },
  {
   "cell_type": "code",
   "execution_count": 47,
   "id": "44c9c135-b255-4f4d-90c1-9aa3570690f3",
   "metadata": {},
   "outputs": [
    {
     "name": "stdout",
     "output_type": "stream",
     "text": [
      "[[5 1]\n",
      " [5 7]]\n"
     ]
    }
   ],
   "source": [
    "print(var1[0:2,1:,0])"
   ]
  },
  {
   "cell_type": "code",
   "execution_count": 41,
   "id": "f937526d-eda0-4102-8b56-d0b475beb6bf",
   "metadata": {},
   "outputs": [
    {
     "name": "stdout",
     "output_type": "stream",
     "text": [
      "(3, 3, 2)\n"
     ]
    }
   ],
   "source": [
    "print(var1.shape)"
   ]
  },
  {
   "cell_type": "code",
   "execution_count": 42,
   "id": "a223f033-a336-4822-98fb-f45065007e82",
   "metadata": {},
   "outputs": [
    {
     "name": "stdout",
     "output_type": "stream",
     "text": [
      "(2, 2, 2)\n"
     ]
    }
   ],
   "source": [
    "var2=np.array([[[1,2],[3,5]],\n",
    "               [[6,7],[8,9]]])\n",
    "print(var2.shape)   #2 layer, 2 Row, 2 Column"
   ]
  },
  {
   "cell_type": "code",
   "execution_count": 64,
   "id": "a1013df1-4a92-451d-a97a-f075ad8e0fdf",
   "metadata": {},
   "outputs": [
    {
     "name": "stdout",
     "output_type": "stream",
     "text": [
      "(3, 2)\n",
      "[[9 4]\n",
      " [5 2]\n",
      " [9 8]]\n",
      "(2, 3)\n",
      "[[9 5 9]\n",
      " [4 2 8]]\n"
     ]
    }
   ],
   "source": [
    "#array bManipulation\n",
    "# 1.Transpose\n",
    "\n",
    "var3=np.random.randint(10,size=(3,2))\n",
    "print(var3.shape)\n",
    "print(var3)\n",
    "var5=np.transpose(var3)\n",
    "print(var5.shape)\n",
    "print(var5)"
   ]
  },
  {
   "cell_type": "code",
   "execution_count": 66,
   "id": "002be24e-b136-471b-966a-0635461893df",
   "metadata": {},
   "outputs": [
    {
     "name": "stdout",
     "output_type": "stream",
     "text": [
      "[[[9 4 5]\n",
      "  [2 9 8]]]\n"
     ]
    }
   ],
   "source": [
    "# 2.Reshape\n",
    "\n",
    "var4=(1,2,3)\n",
    "var6=np.reshape(var3,var4)\n",
    "print(var6)"
   ]
  },
  {
   "cell_type": "code",
   "execution_count": 67,
   "id": "8fa88211-467f-499a-bb56-e7e162852b77",
   "metadata": {},
   "outputs": [
    {
     "name": "stdout",
     "output_type": "stream",
     "text": [
      "[[[9 4]\n",
      "  [5 2]\n",
      "  [9 8]]\n",
      "\n",
      " [[9 4]\n",
      "  [5 2]\n",
      "  [9 8]]]\n"
     ]
    }
   ],
   "source": [
    "# 3.Resize\n",
    "var8=(2,3,2)\n",
    "var7=np.resize(var3,var8)\n",
    "print(var7)"
   ]
  },
  {
   "cell_type": "code",
   "execution_count": 71,
   "id": "a27aeabd-3fb9-4dfc-9981-bfb1ab9fece6",
   "metadata": {},
   "outputs": [
    {
     "name": "stdout",
     "output_type": "stream",
     "text": [
      "[9 4 5 2 9 8]\n"
     ]
    }
   ],
   "source": [
    "#4. flatten\n",
    "\n",
    "print(var3.flatten())"
   ]
  },
  {
   "cell_type": "code",
   "execution_count": null,
   "id": "58cabaac-6a93-4e5c-976d-d5373fa41ee5",
   "metadata": {},
   "outputs": [],
   "source": []
  }
 ],
 "metadata": {
  "kernelspec": {
   "display_name": "Python 3 (ipykernel)",
   "language": "python",
   "name": "python3"
  },
  "language_info": {
   "codemirror_mode": {
    "name": "ipython",
    "version": 3
   },
   "file_extension": ".py",
   "mimetype": "text/x-python",
   "name": "python",
   "nbconvert_exporter": "python",
   "pygments_lexer": "ipython3",
   "version": "3.13.5"
  }
 },
 "nbformat": 4,
 "nbformat_minor": 5
}
