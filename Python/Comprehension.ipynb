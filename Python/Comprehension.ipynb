{
 "cells": [
  {
   "cell_type": "code",
   "execution_count": 1,
   "id": "bb26d5b7-1b06-43ee-8bc6-58fcd18b4a90",
   "metadata": {},
   "outputs": [
    {
     "name": "stdout",
     "output_type": "stream",
     "text": [
      "['Hi', 'I', 'm', 'Shabna', 'H']\n"
     ]
    }
   ],
   "source": [
    "lis=\"Hi I ' m Shabna . H\"\n",
    "newlis=lis.split()\n",
    "res=set([\"'\",\".\"])\n",
    "result=[]\n",
    "for i in newlis:\n",
    "    if i not in res:\n",
    "        result.append(i)\n",
    "print(result)"
   ]
  },
  {
   "cell_type": "code",
   "execution_count": 3,
   "id": "f9d093bb-c64f-4fc0-9d98-41f3c64f34b4",
   "metadata": {},
   "outputs": [
    {
     "name": "stdout",
     "output_type": "stream",
     "text": [
      "[4, 9, 16, 25]\n"
     ]
    }
   ],
   "source": [
    "list1=[2,3,4,5]\n",
    "sqrnumbers=[i**2 for i in list1]\n",
    "print(sqrnumbers)"
   ]
  },
  {
   "cell_type": "code",
   "execution_count": 4,
   "id": "04748230-1127-4972-8e75-a131272de545",
   "metadata": {},
   "outputs": [
    {
     "name": "stdout",
     "output_type": "stream",
     "text": [
      "[4, 16, 36, 64]\n"
     ]
    }
   ],
   "source": [
    "list1=[1,2,3,4,5,6,7,8,9]\n",
    "sqrnumbers=[i**2 for i in list1 if i%2==0]\n",
    "print(sqrnumbers)"
   ]
  },
  {
   "cell_type": "code",
   "execution_count": 7,
   "id": "af9e683d-5a98-4573-9f99-24167ce9da8d",
   "metadata": {},
   "outputs": [
    {
     "name": "stdout",
     "output_type": "stream",
     "text": [
      "[1, True, 9, True, 25, True, 49, True, 81]\n"
     ]
    }
   ],
   "source": [
    "list1=[1,2,3,4,5,6,7,8,9]\n",
    "sqrnumbers=[i**2 if i%2!=0 else i%2==0 for i in list1 ]\n",
    "print(sqrnumbers)"
   ]
  },
  {
   "cell_type": "code",
   "execution_count": 20,
   "id": "c0a0d1f7-778b-402b-acc7-952c3075edce",
   "metadata": {},
   "outputs": [
    {
     "name": "stdout",
     "output_type": "stream",
     "text": [
      "['Hi', \"I'm\", 'Shabna', 'H']\n",
      "['H', 'I', 'S', 'H']\n"
     ]
    }
   ],
   "source": [
    "type=[\"Hi I'm Shabna H\"]\n",
    "newsplit=type[0].split()\n",
    "print(newsplit)\n",
    "fword=[i[0] for i in newsplit]\n",
    "print(fword)"
   ]
  },
  {
   "cell_type": "code",
   "execution_count": 18,
   "id": "e34b5ec7-9458-457d-8313-2e46e4855734",
   "metadata": {},
   "outputs": [
    {
     "name": "stdout",
     "output_type": "stream",
     "text": [
      "{'t', 'W', 'p', 'H'}\n"
     ]
    }
   ],
   "source": [
    "sets1=\"Hello Welcome to python\"\n",
    "set2=sets1.split(' ')\n",
    "newset={i[0] for i in set2}\n",
    "\n",
    "print(newset)"
   ]
  },
  {
   "cell_type": "code",
   "execution_count": 23,
   "id": "6b61d347-8aa4-40e0-bb70-ed0596d3aa61",
   "metadata": {},
   "outputs": [
    {
     "name": "stdout",
     "output_type": "stream",
     "text": [
      "['w', 'e', 'l', 'c', 'o', 'm', 'e', ' ', 't', 'o', ' ', 'p', 'y', 't', 'h', 'o', 'n']\n"
     ]
    }
   ],
   "source": [
    "lis=\"welcome to python\"\n",
    "lis1=[i for i in lis]\n",
    "print(lis1)"
   ]
  },
  {
   "cell_type": "code",
   "execution_count": 27,
   "id": "dc530940-427c-4fdc-b397-bd5412483615",
   "metadata": {},
   "outputs": [
    {
     "name": "stdout",
     "output_type": "stream",
     "text": [
      "('M', 't', 'w')\n"
     ]
    }
   ],
   "source": [
    "tup=('Monday','tuesday','wednesday')\n",
    "tupcompre=tuple([i[0] for i in tup])\n",
    "print(tupcompre)"
   ]
  },
  {
   "cell_type": "code",
   "execution_count": 34,
   "id": "f5975e15-0442-416c-80ae-5e5d259b10d8",
   "metadata": {},
   "outputs": [
    {
     "name": "stdout",
     "output_type": "stream",
     "text": [
      "{'India': 'Newdelhi', 'America': 'Canberra'}\n"
     ]
    }
   ],
   "source": [
    "dict1={'India':'Newdelhi','America':'Canberra'}\n",
    "dictcompre={city:country for city,country in dict1.items()}\n",
    "print(dictcompre)\n",
    "del dict"
   ]
  },
  {
   "cell_type": "code",
   "execution_count": 49,
   "id": "3757c704-aa78-46ea-b80a-d6d3c93ae695",
   "metadata": {},
   "outputs": [
    {
     "name": "stdout",
     "output_type": "stream",
     "text": [
      "{'Newdelhi': 'India', 'Canberra': 'America'}\n"
     ]
    }
   ],
   "source": [
    "dict2={'India':'Newdelhi','America':'Canberra'}\n",
    "flipped={}\n",
    "for country,city in dict2.items(): \n",
    "    flipped[city]=country\n",
    "print(flipped)"
   ]
  },
  {
   "cell_type": "code",
   "execution_count": 50,
   "id": "d178ae9d-4685-4d03-a721-a25a9e46a1d3",
   "metadata": {},
   "outputs": [
    {
     "name": "stdout",
     "output_type": "stream",
     "text": [
      "{1: 'A', 2: 'B', 3: 'C'}\n"
     ]
    }
   ],
   "source": [
    "newdict={'A':1,'B':2,'C':3}\n",
    "dictcompre={city:country for country,city in newdict.items()}\n",
    "print(dictcompre)"
   ]
  },
  {
   "cell_type": "code",
   "execution_count": 71,
   "id": "218d3ef6-7b0d-41ac-8a4b-7f81d3cf58dc",
   "metadata": {},
   "outputs": [
    {
     "name": "stdout",
     "output_type": "stream",
     "text": [
      "{'12': 'AB', '45': 'EF', '56': 'TY'}\n"
     ]
    }
   ],
   "source": [
    "new={'ABCD':'123','EFGH':'456','TYUI':'567'}\n",
    "dictcompre2={value[:2]:key[:-2] for key,value in new.items()}\n",
    "print(dictcompre2)"
   ]
  },
  {
   "cell_type": "code",
   "execution_count": 65,
   "id": "fd95358e-ffd9-40b1-893c-3d23a7ab0c03",
   "metadata": {},
   "outputs": [
    {
     "name": "stdout",
     "output_type": "stream",
     "text": [
      "{'EFGH': '456'}\n"
     ]
    }
   ],
   "source": [
    "dictcomp={key:value for key,value in new.items() if key[0] not in['A'] and value not in['123'] }\n",
    "print(dictcomp)"
   ]
  },
  {
   "cell_type": "code",
   "execution_count": 72,
   "id": "d165a5ea-c04b-4fc1-8d8b-d05af1345784",
   "metadata": {},
   "outputs": [],
   "source": [
    "def evenodd(num):\n",
    "    if num%2==0:\n",
    "        return 'even'\n",
    "    else:\n",
    "        return 'odd'\n"
   ]
  },
  {
   "cell_type": "code",
   "execution_count": 73,
   "id": "1b9d34bd-1ef3-4cff-9c76-72fb605e4368",
   "metadata": {},
   "outputs": [
    {
     "data": {
      "text/plain": [
       "'odd'"
      ]
     },
     "execution_count": 73,
     "metadata": {},
     "output_type": "execute_result"
    }
   ],
   "source": [
    "evenodd(5)"
   ]
  },
  {
   "cell_type": "code",
   "execution_count": 74,
   "id": "c70c8146-241d-419c-b2e1-8bda5a0528f1",
   "metadata": {},
   "outputs": [
    {
     "data": {
      "text/plain": [
       "'even'"
      ]
     },
     "execution_count": 74,
     "metadata": {},
     "output_type": "execute_result"
    }
   ],
   "source": [
    "evenodd(6)"
   ]
  },
  {
   "cell_type": "code",
   "execution_count": 75,
   "id": "42fca4c6-75df-44e9-a249-49b42dc39e5b",
   "metadata": {},
   "outputs": [],
   "source": [
    "def rangenum(num):\n",
    "    for i in range(1,num):\n",
    "        print(i)"
   ]
  },
  {
   "cell_type": "code",
   "execution_count": 76,
   "id": "5e8f92c6-4d46-40ed-8435-9c1b34bd4775",
   "metadata": {},
   "outputs": [
    {
     "name": "stdout",
     "output_type": "stream",
     "text": [
      "1\n",
      "2\n",
      "3\n",
      "4\n",
      "5\n",
      "6\n",
      "7\n",
      "8\n",
      "9\n"
     ]
    }
   ],
   "source": [
    "rangenum(10)"
   ]
  },
  {
   "cell_type": "code",
   "execution_count": 87,
   "id": "475993ab-c401-4eac-bf2a-1fc0d4970d9e",
   "metadata": {},
   "outputs": [
    {
     "name": "stdout",
     "output_type": "stream",
     "text": [
      "HelloWorld\n"
     ]
    }
   ],
   "source": [
    "String2=\"Hello\"\n",
    "def joinstring(String2,a):\n",
    "    str2=String2+a\n",
    "    print(str2)\n",
    "\n",
    "joinstring(String2,\"World\")"
   ]
  },
  {
   "cell_type": "code",
   "execution_count": 93,
   "id": "8b6dafef-09f7-473b-93e8-cff9dc6b03da",
   "metadata": {},
   "outputs": [
    {
     "name": "stdout",
     "output_type": "stream",
     "text": [
      "2\n",
      "5\n"
     ]
    }
   ],
   "source": [
    "def vowels(text):\n",
    "    count=0\n",
    "    for i in text:\n",
    "        if i in ['a','e','i','o','u']:\n",
    "            count=count+1\n",
    "    print(count)\n",
    "\n",
    "vowels(\"shabna\")\n",
    "vowels(\"aeiouw\")"
   ]
  },
  {
   "cell_type": "code",
   "execution_count": 94,
   "id": "f82168b9-87a8-4b3f-bc43-6547453edc14",
   "metadata": {},
   "outputs": [
    {
     "name": "stdout",
     "output_type": "stream",
     "text": [
      "anbahS\n"
     ]
    }
   ],
   "source": [
    "def string2(text2):\n",
    "    for i in text2:\n",
    "        text3=text2[::-1]\n",
    "    print(text3)\n",
    "string2(\"Shabna\")"
   ]
  },
  {
   "cell_type": "code",
   "execution_count": 99,
   "id": "4b3af82f-d2bc-42fa-ae8b-a4a01bf59c65",
   "metadata": {},
   "outputs": [
    {
     "name": "stdout",
     "output_type": "stream",
     "text": [
      "{4}  is the highest number\n"
     ]
    }
   ],
   "source": [
    "def max3num(a,b,c):\n",
    "    if a>b and a>c:\n",
    "        print({a}, \"is the highest number\")\n",
    "    elif b>a and b>c:\n",
    "        print({b},\" is the highest number\")\n",
    "    else:\n",
    "        print({c},\" is the highest number\")\n",
    "\n",
    "max3num(2,3,4)"
   ]
  },
  {
   "cell_type": "code",
   "execution_count": 109,
   "id": "526bf69e-81a2-4480-99e3-9128ae65b11e",
   "metadata": {},
   "outputs": [],
   "source": [
    "def list2(numbers):\n",
    "    mul=1\n",
    "    for i in numbers:\n",
    "        mul=mul*i\n",
    "    print(mul)\n"
   ]
  },
  {
   "cell_type": "code",
   "execution_count": 110,
   "id": "64239c69-a2e6-4885-ac6b-c90210735462",
   "metadata": {},
   "outputs": [
    {
     "name": "stdout",
     "output_type": "stream",
     "text": [
      "24\n"
     ]
    }
   ],
   "source": [
    "list2([1,2,3,4])"
   ]
  },
  {
   "cell_type": "code",
   "execution_count": 6,
   "id": "2be0f408-b309-4d7a-b729-c0c8821a6516",
   "metadata": {},
   "outputs": [
    {
     "data": {
      "text/plain": [
       "[13, 14]"
      ]
     },
     "execution_count": 6,
     "metadata": {},
     "output_type": "execute_result"
    }
   ],
   "source": [
    "def func(li):\n",
    "    return[i for i in li if i>10]\n",
    "    \n",
    "         \n",
    "func([1,10,13,14])\n"
   ]
  },
  {
   "cell_type": "code",
   "execution_count": 2,
   "id": "616d4ada-8fac-4c42-816e-3ba90a888acc",
   "metadata": {},
   "outputs": [
    {
     "name": "stdout",
     "output_type": "stream",
     "text": [
      "29\n",
      "90\n"
     ]
    }
   ],
   "source": [
    "\n",
    "def fun(li2):\n",
    "    for i in li2:\n",
    "        if i>10:\n",
    "            print(i)\n",
    "\n",
    "fun([1,29,90,5,6])\n"
   ]
  },
  {
   "cell_type": "code",
   "execution_count": 13,
   "id": "771ba9ab-5528-4bf6-9ef4-34a468a9da15",
   "metadata": {},
   "outputs": [
    {
     "name": "stdout",
     "output_type": "stream",
     "text": [
      "True\n",
      "False\n"
     ]
    }
   ],
   "source": [
    "def anagram(w1,w2):\n",
    "    return sorted(w1.lower())==sorted(w2.lower())\n",
    "\n",
    "print(anagram(\"listen\",\"silent\"))\n",
    "print(anagram(\"hello\",\"hi\"))\n",
    "    "
   ]
  },
  {
   "cell_type": "code",
   "execution_count": 18,
   "id": "cc4001a9-2444-491e-8370-ad85a850b34d",
   "metadata": {},
   "outputs": [
    {
     "name": "stdout",
     "output_type": "stream",
     "text": [
      "False\n",
      "True\n"
     ]
    }
   ],
   "source": [
    "def isogram(word):\n",
    "    newword=word.lower()\n",
    "    newset=set()\n",
    "\n",
    "    for i in newword:\n",
    "        if i in newset:\n",
    "            return False\n",
    "        newset.add(i)\n",
    "    return True\n",
    "\n",
    "print(isogram(\"hello\"))\n",
    "print(isogram(\"hi\"))\n",
    "        \n",
    "        \n",
    "   "
   ]
  },
  {
   "cell_type": "code",
   "execution_count": 21,
   "id": "005bb606-e464-497f-85d1-fbc6d9b919e5",
   "metadata": {},
   "outputs": [
    {
     "name": "stdout",
     "output_type": "stream",
     "text": [
      "True\n",
      "False\n"
     ]
    }
   ],
   "source": [
    "def palindrome(word):\n",
    "    word=word.lower()\n",
    "    return word==word[::-1]\n",
    "\n",
    "print(palindrome(\"malayalam\"))\n",
    "print(palindrome(\"hello\"))\n",
    "        \n",
    "    "
   ]
  },
  {
   "cell_type": "code",
   "execution_count": 35,
   "id": "76959d21-c632-46ac-b01f-b9b5d0e5b1d0",
   "metadata": {},
   "outputs": [
    {
     "name": "stdin",
     "output_type": "stream",
     "text": [
      "Enter the first number 3\n",
      "Enter the second number 4\n"
     ]
    },
    {
     "name": "stdout",
     "output_type": "stream",
     "text": [
      "1 for Addition , 2 for Substraction ,3 for Multiplication\n"
     ]
    },
    {
     "name": "stdin",
     "output_type": "stream",
     "text": [
      "Enter a number 1\n"
     ]
    },
    {
     "name": "stdout",
     "output_type": "stream",
     "text": [
      "7\n"
     ]
    },
    {
     "name": "stdin",
     "output_type": "stream",
     "text": [
      "Do you want to continue,y/n n\n"
     ]
    }
   ],
   "source": [
    "def add(num1,num2):\n",
    "        rsum=num1+num2\n",
    "        print(rsum) \n",
    "def mul(num1,num2):\n",
    "        rmul=num1*num2\n",
    "        print(rmul) \n",
    "def sub(num1,num2):\n",
    "        rsub=num1-num2\n",
    "        print(rsub) \n",
    "\n",
    "while True:\n",
    "    num1=int(input(\"Enter the first number\"))\n",
    "    num2=int(input(\"Enter the second number\"))\n",
    "    print(\"1 for Addition , 2 for Substraction ,3 for Multiplication\")\n",
    "    a=int(input(\"Enter a number\"))\n",
    "    if a==1:\n",
    "    \n",
    "        add(num1,num2)\n",
    "        \n",
    "    elif a==2:\n",
    "        sub(num1,num2)\n",
    "       \n",
    "    else:\n",
    "        mul(num1,num2)\n",
    "    \n",
    "    b=input(\"Do you want to continue,y/n\")\n",
    "    \n",
    "    if(b=='y'):\n",
    "        continue\n",
    "    else:\n",
    "        break"
   ]
  },
  {
   "cell_type": "code",
   "execution_count": null,
   "id": "36815669-1646-43ee-ae48-5eb403556bbd",
   "metadata": {},
   "outputs": [],
   "source": [
    "#Lambda Function - it is an anonymous function without a name"
   ]
  },
  {
   "cell_type": "code",
   "execution_count": 36,
   "id": "71a452d7-eeb8-43a4-9aa7-4942587075f6",
   "metadata": {},
   "outputs": [
    {
     "name": "stdout",
     "output_type": "stream",
     "text": [
      "5\n"
     ]
    }
   ],
   "source": [
    "sum=lambda a,b:a+b\n",
    "print(sum(2,3))"
   ]
  },
  {
   "cell_type": "code",
   "execution_count": 40,
   "id": "a04d2aa2-a5b6-41d8-ab5f-3d4320d948c2",
   "metadata": {},
   "outputs": [
    {
     "name": "stdout",
     "output_type": "stream",
     "text": [
      "5\n"
     ]
    }
   ],
   "source": [
    "print((lambda a,b:a+b)(2,3))\n"
   ]
  },
  {
   "cell_type": "code",
   "execution_count": 52,
   "id": "f373a45f-2415-4473-98a4-a20c47371d8f",
   "metadata": {},
   "outputs": [
    {
     "name": "stdout",
     "output_type": "stream",
     "text": [
      "even\n"
     ]
    }
   ],
   "source": [
    "num=lambda x:\"Even\" if x%2==0 else \"odd\"\n",
    "print(num(2))"
   ]
  },
  {
   "cell_type": "code",
   "execution_count": 66,
   "id": "b84698b1-b5fb-4827-9153-8f9e0dab62b1",
   "metadata": {},
   "outputs": [
    {
     "name": "stdout",
     "output_type": "stream",
     "text": [
      "[('Alice', 80), ('Bob', 90), ('John', 70)]\n"
     ]
    }
   ],
   "source": [
    "students=[(\"Alice\",80),(\"John\",70),(\"Bob\",90)]\n",
    "new=sorted(students, key=lambda x:x[0])\n",
    "print(new)"
   ]
  },
  {
   "cell_type": "raw",
   "id": "521b5daf-e35f-4cbc-8a91-10a4c3f6c391",
   "metadata": {},
   "source": []
  },
  {
   "cell_type": "code",
   "execution_count": 67,
   "id": "cf5764b0-586c-4808-880c-22495f1a8f6c",
   "metadata": {},
   "outputs": [
    {
     "name": "stdout",
     "output_type": "stream",
     "text": [
      "odd\n"
     ]
    }
   ],
   "source": [
    "print((lambda x:\"Even\" if x%2==0 else \"odd\")(3))"
   ]
  },
  {
   "cell_type": "code",
   "execution_count": null,
   "id": "ffbe2ce0-9404-42f0-b87d-6bba42c66745",
   "metadata": {},
   "outputs": [],
   "source": [
    "#Exception Handling"
   ]
  },
  {
   "cell_type": "code",
   "execution_count": 2,
   "id": "d4f18c20-8260-44e7-a989-4b4a1d130ef0",
   "metadata": {},
   "outputs": [
    {
     "name": "stdin",
     "output_type": "stream",
     "text": [
      "Enter the phone number wafd\n"
     ]
    },
    {
     "name": "stdout",
     "output_type": "stream",
     "text": [
      "Invalid Entry, Enter in a number format\n",
      "Thank you for your entry!\n"
     ]
    }
   ],
   "source": [
    "try:\n",
    "    a=int(input(\"Enter the phone number\"))\n",
    "except ValueError:\n",
    "    print(\"Invalid Entry, Enter in a number format\")\n",
    "else:\n",
    "    print(\"Your phone number is\",a)\n",
    "finally:\n",
    "    print(\"Thank you for your entry!\")"
   ]
  },
  {
   "cell_type": "code",
   "execution_count": 70,
   "id": "dd5d44f8-37d4-426a-a5e7-a719b386e885",
   "metadata": {},
   "outputs": [
    {
     "name": "stdin",
     "output_type": "stream",
     "text": [
      "Enter the phone number abhgh\n"
     ]
    },
    {
     "name": "stdout",
     "output_type": "stream",
     "text": [
      "Thank you for your entry!\n"
     ]
    },
    {
     "ename": "ValueError",
     "evalue": "invalid literal for int() with base 10: 'abhgh'",
     "output_type": "error",
     "traceback": [
      "\u001b[1;31m---------------------------------------------------------------------------\u001b[0m",
      "\u001b[1;31mValueError\u001b[0m                                Traceback (most recent call last)",
      "Cell \u001b[1;32mIn[70], line 2\u001b[0m\n\u001b[0;32m      1\u001b[0m \u001b[38;5;28;01mtry\u001b[39;00m:\n\u001b[1;32m----> 2\u001b[0m     a\u001b[38;5;241m=\u001b[39m\u001b[38;5;28mint\u001b[39m(\u001b[38;5;28minput\u001b[39m(\u001b[38;5;124m\"\u001b[39m\u001b[38;5;124mEnter the phone number\u001b[39m\u001b[38;5;124m\"\u001b[39m))\n\u001b[0;32m      3\u001b[0m \u001b[38;5;28;01mfinally\u001b[39;00m:\n\u001b[0;32m      4\u001b[0m     \u001b[38;5;28mprint\u001b[39m(\u001b[38;5;124m\"\u001b[39m\u001b[38;5;124mThank you for your entry!\u001b[39m\u001b[38;5;124m\"\u001b[39m)\n",
      "\u001b[1;31mValueError\u001b[0m: invalid literal for int() with base 10: 'abhgh'"
     ]
    }
   ],
   "source": [
    "try:\n",
    "    a=int(input(\"Enter the phone number\"))\n",
    "finally:\n",
    "    print(\"Thank you for your entry!\")"
   ]
  },
  {
   "cell_type": "code",
   "execution_count": 80,
   "id": "690da9d9-de6d-443d-99d3-afdbcf97da90",
   "metadata": {},
   "outputs": [
    {
     "name": "stdout",
     "output_type": "stream",
     "text": [
      " Appended Lineine\n"
     ]
    }
   ],
   "source": [
    "f=open(\"C:\\\\Users\\\\Sheenu\\\\Desktop\\\\demo.txt\",\"r\")\n",
    "print(f.read())"
   ]
  },
  {
   "cell_type": "code",
   "execution_count": 4,
   "id": "908a230f-dc73-4c92-b68b-d27f729f64dc",
   "metadata": {},
   "outputs": [
    {
     "name": "stdout",
     "output_type": "stream",
     "text": [
      " Appended LineNew Appended LinNew Appended Lin\n"
     ]
    }
   ],
   "source": [
    "f=open(\"C:\\\\Users\\\\Sheenu\\\\Desktop\\\\demo.txt\",\"a\")\n",
    "f.write(\"New Appended Lin\")\n",
    "f=open(\"C:\\\\Users\\\\Sheenu\\\\Desktop\\\\demo.txt\",\"r\")\n",
    "print(f.read())"
   ]
  },
  {
   "cell_type": "code",
   "execution_count": 92,
   "id": "b983940f-c691-4623-afd3-ec86812ba6fe",
   "metadata": {},
   "outputs": [
    {
     "name": "stdout",
     "output_type": "stream",
     "text": [
      " Appended Line\n"
     ]
    }
   ],
   "source": [
    "f=open(\"C:\\\\Users\\\\Sheenu\\\\Desktop\\\\demo.txt\",\"w\")\n",
    "f.write(\" Appended Line\")\n",
    "f=open(\"C:\\\\Users\\\\Sheenu\\\\Desktop\\\\demo.txt\",\"r\")\n",
    "print(f.read())"
   ]
  }
 ],
 "metadata": {
  "kernelspec": {
   "display_name": "Python 3 (ipykernel)",
   "language": "python",
   "name": "python3"
  },
  "language_info": {
   "codemirror_mode": {
    "name": "ipython",
    "version": 3
   },
   "file_extension": ".py",
   "mimetype": "text/x-python",
   "name": "python",
   "nbconvert_exporter": "python",
   "pygments_lexer": "ipython3",
   "version": "3.13.5"
  }
 },
 "nbformat": 4,
 "nbformat_minor": 5
}
