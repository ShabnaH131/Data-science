{
 "cells": [
  {
   "cell_type": "code",
   "execution_count": 4,
   "id": "357c84b1-9cd9-4054-8772-f48360f4ec6b",
   "metadata": {},
   "outputs": [
    {
     "name": "stdout",
     "output_type": "stream",
     "text": [
      "madam is palindrome\n"
     ]
    }
   ],
   "source": [
    "def palindrome(word):\n",
    "    new=word[::-1]\n",
    "    if new==word:\n",
    "        print(f\"{word} is palindrome\")\n",
    "    else:\n",
    "        print(f\"{word} is not palindrome\")\n",
    "palindrome(\"madam\")"
   ]
  },
  {
   "cell_type": "code",
   "execution_count": 7,
   "id": "91a917fb-5a5b-4b9f-b5f9-ed637ea76659",
   "metadata": {},
   "outputs": [
    {
     "data": {
      "text/plain": [
       "{1: 1, 2: 2, 3: 1}"
      ]
     },
     "execution_count": 7,
     "metadata": {},
     "output_type": "execute_result"
    }
   ],
   "source": [
    "def count_freq(elements):\n",
    "    freq={}\n",
    "    for i in elements:\n",
    "        if i in freq:\n",
    "            freq[i]+=1\n",
    "        else:\n",
    "            freq[i]=1\n",
    "    return freq\n",
    "count_freq([1,2,2,3])\n",
    "    "
   ]
  },
  {
   "cell_type": "code",
   "execution_count": 25,
   "id": "56e3cb2d-e0a2-4f2a-8408-97222b664929",
   "metadata": {},
   "outputs": [
    {
     "name": "stdout",
     "output_type": "stream",
     "text": [
      "[1, 2, 3]\n"
     ]
    }
   ],
   "source": [
    "lis=[1,2,2,3]\n",
    "newlis=[]\n",
    "for i in lis:\n",
    "    if i not in newlis:\n",
    "        newlis.append(i)\n",
    "print(newlis)\n",
    "       "
   ]
  },
  {
   "cell_type": "code",
   "execution_count": 34,
   "id": "deddd642-6f86-4d7c-b4e0-1ff010d81815",
   "metadata": {},
   "outputs": [
    {
     "name": "stdout",
     "output_type": "stream",
     "text": [
      "Deposited Amount is 900 , Available Amount is 10900\n",
      "Withdraw Amount is 1000 , Available Amount is 9900\n"
     ]
    }
   ],
   "source": [
    "class Bank:\n",
    "    def __init__(self,accountholder,bal=0):\n",
    "        self.accountholder=accountholder\n",
    "        self.bal=bal\n",
    "    def deposit(self,amount):\n",
    "        if amount>0:\n",
    "            self.bal=self.bal+amount\n",
    "            print(f\"Deposited Amount is {amount} , Available Amount is {self.bal}\")\n",
    "    def withdraw(self,amount):\n",
    "        if amount>0:\n",
    "            if amount<=self.bal:\n",
    "                self.bal=self.bal-amount\n",
    "                print(f\"Withdraw Amount is {amount} , Available Amount is {self.bal}\")\n",
    "            else:\n",
    "                print(f\"No Available Balance\")\n",
    "        else:\n",
    "            print(\"Enter correct digit\")\n",
    "\n",
    "obj=Bank(\"Shabna\",10000)\n",
    "obj.deposit(900)\n",
    "obj.withdraw(1000)\n"
   ]
  },
  {
   "cell_type": "code",
   "execution_count": 60,
   "id": "0fdc7477-0c4b-4c0d-8e41-33a4b049f509",
   "metadata": {},
   "outputs": [
    {
     "name": "stdout",
     "output_type": "stream",
     "text": [
      "Letters: 10\n",
      "Digits: 3\n"
     ]
    }
   ],
   "source": [
    "def countNA(sentence):\n",
    "    letters=0\n",
    "    digit=0\n",
    "    \n",
    "    \n",
    "    for i in sentence:\n",
    "        if i.isalpha():\n",
    "            letters+=1\n",
    "        elif i.isdigit():\n",
    "            digit+=1\n",
    "    return letters,digit\n",
    "    \n",
    "countNA(\"hello world! 123\")\n",
    "print(\"Letters:\", letters)\n",
    "print(\"Digits:\", digit)        "
   ]
  },
  {
   "cell_type": "code",
   "execution_count": null,
   "id": "36a01317-fd8c-4353-8a66-d0425f0b1fc7",
   "metadata": {},
   "outputs": [],
   "source": []
  }
 ],
 "metadata": {
  "kernelspec": {
   "display_name": "Python 3 (ipykernel)",
   "language": "python",
   "name": "python3"
  },
  "language_info": {
   "codemirror_mode": {
    "name": "ipython",
    "version": 3
   },
   "file_extension": ".py",
   "mimetype": "text/x-python",
   "name": "python",
   "nbconvert_exporter": "python",
   "pygments_lexer": "ipython3",
   "version": "3.13.5"
  }
 },
 "nbformat": 4,
 "nbformat_minor": 5
}
