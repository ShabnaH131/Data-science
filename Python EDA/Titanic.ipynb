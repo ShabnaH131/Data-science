{
 "cells": [
  {
   "cell_type": "markdown",
   "id": "f06c82e6-371f-4e41-a88e-42e036bd3d2a",
   "metadata": {},
   "source": [
    "**PROJECT NAME - TITANIC**\n"
   ]
  },
  {
   "cell_type": "markdown",
   "id": "8bb47889-1847-41ba-a422-989f90e727d9",
   "metadata": {},
   "source": [
    "**1. Importing Libraries**"
   ]
  },
  {
   "cell_type": "code",
   "execution_count": 278,
   "id": "563ded3c-8307-40ea-afd9-05b826cd7cd5",
   "metadata": {},
   "outputs": [],
   "source": [
    "import pandas as pd\n",
    "import matplotlib.pyplot as plt\n",
    "import seaborn as sns"
   ]
  },
  {
   "cell_type": "markdown",
   "id": "0b207c66-0242-4696-85df-5d5efb58b097",
   "metadata": {},
   "source": [
    "**2. Loading the Titanic dataset**\n",
    "\n",
    "Load the training and test datasets into pandas DataFrames."
   ]
  },
  {
   "cell_type": "code",
   "execution_count": 279,
   "id": "d7c42afb-1a96-4115-8574-d8b1e380affb",
   "metadata": {},
   "outputs": [
    {
     "data": {
      "text/html": [
       "<div>\n",
       "<style scoped>\n",
       "    .dataframe tbody tr th:only-of-type {\n",
       "        vertical-align: middle;\n",
       "    }\n",
       "\n",
       "    .dataframe tbody tr th {\n",
       "        vertical-align: top;\n",
       "    }\n",
       "\n",
       "    .dataframe thead th {\n",
       "        text-align: right;\n",
       "    }\n",
       "</style>\n",
       "<table border=\"1\" class=\"dataframe\">\n",
       "  <thead>\n",
       "    <tr style=\"text-align: right;\">\n",
       "      <th></th>\n",
       "      <th>PassengerId</th>\n",
       "      <th>Survived</th>\n",
       "      <th>Pclass</th>\n",
       "      <th>Name</th>\n",
       "      <th>Sex</th>\n",
       "      <th>Age</th>\n",
       "      <th>SibSp</th>\n",
       "      <th>Parch</th>\n",
       "      <th>Ticket</th>\n",
       "      <th>Fare</th>\n",
       "      <th>Cabin</th>\n",
       "      <th>Embarked</th>\n",
       "    </tr>\n",
       "  </thead>\n",
       "  <tbody>\n",
       "    <tr>\n",
       "      <th>0</th>\n",
       "      <td>1</td>\n",
       "      <td>0</td>\n",
       "      <td>3</td>\n",
       "      <td>Braund, Mr. Owen Harris</td>\n",
       "      <td>male</td>\n",
       "      <td>22.0</td>\n",
       "      <td>1</td>\n",
       "      <td>0</td>\n",
       "      <td>A/5 21171</td>\n",
       "      <td>7.2500</td>\n",
       "      <td>NaN</td>\n",
       "      <td>S</td>\n",
       "    </tr>\n",
       "    <tr>\n",
       "      <th>1</th>\n",
       "      <td>2</td>\n",
       "      <td>1</td>\n",
       "      <td>1</td>\n",
       "      <td>Cumings, Mrs. John Bradley (Florence Briggs Th...</td>\n",
       "      <td>female</td>\n",
       "      <td>38.0</td>\n",
       "      <td>1</td>\n",
       "      <td>0</td>\n",
       "      <td>PC 17599</td>\n",
       "      <td>71.2833</td>\n",
       "      <td>C85</td>\n",
       "      <td>C</td>\n",
       "    </tr>\n",
       "    <tr>\n",
       "      <th>2</th>\n",
       "      <td>3</td>\n",
       "      <td>1</td>\n",
       "      <td>3</td>\n",
       "      <td>Heikkinen, Miss. Laina</td>\n",
       "      <td>female</td>\n",
       "      <td>26.0</td>\n",
       "      <td>0</td>\n",
       "      <td>0</td>\n",
       "      <td>STON/O2. 3101282</td>\n",
       "      <td>7.9250</td>\n",
       "      <td>NaN</td>\n",
       "      <td>S</td>\n",
       "    </tr>\n",
       "    <tr>\n",
       "      <th>3</th>\n",
       "      <td>4</td>\n",
       "      <td>1</td>\n",
       "      <td>1</td>\n",
       "      <td>Futrelle, Mrs. Jacques Heath (Lily May Peel)</td>\n",
       "      <td>female</td>\n",
       "      <td>35.0</td>\n",
       "      <td>1</td>\n",
       "      <td>0</td>\n",
       "      <td>113803</td>\n",
       "      <td>53.1000</td>\n",
       "      <td>C123</td>\n",
       "      <td>S</td>\n",
       "    </tr>\n",
       "    <tr>\n",
       "      <th>4</th>\n",
       "      <td>5</td>\n",
       "      <td>0</td>\n",
       "      <td>3</td>\n",
       "      <td>Allen, Mr. William Henry</td>\n",
       "      <td>male</td>\n",
       "      <td>35.0</td>\n",
       "      <td>0</td>\n",
       "      <td>0</td>\n",
       "      <td>373450</td>\n",
       "      <td>8.0500</td>\n",
       "      <td>NaN</td>\n",
       "      <td>S</td>\n",
       "    </tr>\n",
       "    <tr>\n",
       "      <th>...</th>\n",
       "      <td>...</td>\n",
       "      <td>...</td>\n",
       "      <td>...</td>\n",
       "      <td>...</td>\n",
       "      <td>...</td>\n",
       "      <td>...</td>\n",
       "      <td>...</td>\n",
       "      <td>...</td>\n",
       "      <td>...</td>\n",
       "      <td>...</td>\n",
       "      <td>...</td>\n",
       "      <td>...</td>\n",
       "    </tr>\n",
       "    <tr>\n",
       "      <th>886</th>\n",
       "      <td>887</td>\n",
       "      <td>0</td>\n",
       "      <td>2</td>\n",
       "      <td>Montvila, Rev. Juozas</td>\n",
       "      <td>male</td>\n",
       "      <td>27.0</td>\n",
       "      <td>0</td>\n",
       "      <td>0</td>\n",
       "      <td>211536</td>\n",
       "      <td>13.0000</td>\n",
       "      <td>NaN</td>\n",
       "      <td>S</td>\n",
       "    </tr>\n",
       "    <tr>\n",
       "      <th>887</th>\n",
       "      <td>888</td>\n",
       "      <td>1</td>\n",
       "      <td>1</td>\n",
       "      <td>Graham, Miss. Margaret Edith</td>\n",
       "      <td>female</td>\n",
       "      <td>19.0</td>\n",
       "      <td>0</td>\n",
       "      <td>0</td>\n",
       "      <td>112053</td>\n",
       "      <td>30.0000</td>\n",
       "      <td>B42</td>\n",
       "      <td>S</td>\n",
       "    </tr>\n",
       "    <tr>\n",
       "      <th>888</th>\n",
       "      <td>889</td>\n",
       "      <td>0</td>\n",
       "      <td>3</td>\n",
       "      <td>Johnston, Miss. Catherine Helen \"Carrie\"</td>\n",
       "      <td>female</td>\n",
       "      <td>NaN</td>\n",
       "      <td>1</td>\n",
       "      <td>2</td>\n",
       "      <td>W./C. 6607</td>\n",
       "      <td>23.4500</td>\n",
       "      <td>NaN</td>\n",
       "      <td>S</td>\n",
       "    </tr>\n",
       "    <tr>\n",
       "      <th>889</th>\n",
       "      <td>890</td>\n",
       "      <td>1</td>\n",
       "      <td>1</td>\n",
       "      <td>Behr, Mr. Karl Howell</td>\n",
       "      <td>male</td>\n",
       "      <td>26.0</td>\n",
       "      <td>0</td>\n",
       "      <td>0</td>\n",
       "      <td>111369</td>\n",
       "      <td>30.0000</td>\n",
       "      <td>C148</td>\n",
       "      <td>C</td>\n",
       "    </tr>\n",
       "    <tr>\n",
       "      <th>890</th>\n",
       "      <td>891</td>\n",
       "      <td>0</td>\n",
       "      <td>3</td>\n",
       "      <td>Dooley, Mr. Patrick</td>\n",
       "      <td>male</td>\n",
       "      <td>32.0</td>\n",
       "      <td>0</td>\n",
       "      <td>0</td>\n",
       "      <td>370376</td>\n",
       "      <td>7.7500</td>\n",
       "      <td>NaN</td>\n",
       "      <td>Q</td>\n",
       "    </tr>\n",
       "  </tbody>\n",
       "</table>\n",
       "<p>891 rows × 12 columns</p>\n",
       "</div>"
      ],
      "text/plain": [
       "     PassengerId  Survived  Pclass  \\\n",
       "0              1         0       3   \n",
       "1              2         1       1   \n",
       "2              3         1       3   \n",
       "3              4         1       1   \n",
       "4              5         0       3   \n",
       "..           ...       ...     ...   \n",
       "886          887         0       2   \n",
       "887          888         1       1   \n",
       "888          889         0       3   \n",
       "889          890         1       1   \n",
       "890          891         0       3   \n",
       "\n",
       "                                                  Name     Sex   Age  SibSp  \\\n",
       "0                              Braund, Mr. Owen Harris    male  22.0      1   \n",
       "1    Cumings, Mrs. John Bradley (Florence Briggs Th...  female  38.0      1   \n",
       "2                               Heikkinen, Miss. Laina  female  26.0      0   \n",
       "3         Futrelle, Mrs. Jacques Heath (Lily May Peel)  female  35.0      1   \n",
       "4                             Allen, Mr. William Henry    male  35.0      0   \n",
       "..                                                 ...     ...   ...    ...   \n",
       "886                              Montvila, Rev. Juozas    male  27.0      0   \n",
       "887                       Graham, Miss. Margaret Edith  female  19.0      0   \n",
       "888           Johnston, Miss. Catherine Helen \"Carrie\"  female   NaN      1   \n",
       "889                              Behr, Mr. Karl Howell    male  26.0      0   \n",
       "890                                Dooley, Mr. Patrick    male  32.0      0   \n",
       "\n",
       "     Parch            Ticket     Fare Cabin Embarked  \n",
       "0        0         A/5 21171   7.2500   NaN        S  \n",
       "1        0          PC 17599  71.2833   C85        C  \n",
       "2        0  STON/O2. 3101282   7.9250   NaN        S  \n",
       "3        0            113803  53.1000  C123        S  \n",
       "4        0            373450   8.0500   NaN        S  \n",
       "..     ...               ...      ...   ...      ...  \n",
       "886      0            211536  13.0000   NaN        S  \n",
       "887      0            112053  30.0000   B42        S  \n",
       "888      2        W./C. 6607  23.4500   NaN        S  \n",
       "889      0            111369  30.0000  C148        C  \n",
       "890      0            370376   7.7500   NaN        Q  \n",
       "\n",
       "[891 rows x 12 columns]"
      ]
     },
     "execution_count": 279,
     "metadata": {},
     "output_type": "execute_result"
    }
   ],
   "source": [
    "df=pd.read_csv(\"Downloads/titanic.csv\")\n",
    "df"
   ]
  },
  {
   "cell_type": "markdown",
   "id": "69a3941e-a693-482b-9a52-d42dab0c47f4",
   "metadata": {},
   "source": [
    "**3. Exploratory Data Analysis (EDA):**\n",
    "\n",
    "**Initial Inspection :** View the shape(rows & columns) and dataset information."
   ]
  },
  {
   "cell_type": "code",
   "execution_count": 280,
   "id": "0ce8b0a8-48ae-48e5-857b-6ef6a8255172",
   "metadata": {},
   "outputs": [
    {
     "name": "stdout",
     "output_type": "stream",
     "text": [
      "(891, 12)\n",
      "<class 'pandas.core.frame.DataFrame'>\n",
      "RangeIndex: 891 entries, 0 to 890\n",
      "Data columns (total 12 columns):\n",
      " #   Column       Non-Null Count  Dtype  \n",
      "---  ------       --------------  -----  \n",
      " 0   PassengerId  891 non-null    int64  \n",
      " 1   Survived     891 non-null    int64  \n",
      " 2   Pclass       891 non-null    int64  \n",
      " 3   Name         891 non-null    object \n",
      " 4   Sex          891 non-null    object \n",
      " 5   Age          714 non-null    float64\n",
      " 6   SibSp        891 non-null    int64  \n",
      " 7   Parch        891 non-null    int64  \n",
      " 8   Ticket       891 non-null    object \n",
      " 9   Fare         891 non-null    float64\n",
      " 10  Cabin        204 non-null    object \n",
      " 11  Embarked     889 non-null    object \n",
      "dtypes: float64(2), int64(5), object(5)\n",
      "memory usage: 83.7+ KB\n"
     ]
    }
   ],
   "source": [
    "print(df.shape)\n",
    "df.info()"
   ]
  },
  {
   "cell_type": "markdown",
   "id": "6a6ba892-957f-41a2-9a55-a6d87e10cad5",
   "metadata": {},
   "source": [
    "**4. Check for Missing Values :** Identify columns with missing data."
   ]
  },
  {
   "cell_type": "code",
   "execution_count": 281,
   "id": "1d4740a2-571c-457b-8742-20e7a61c46f8",
   "metadata": {},
   "outputs": [
    {
     "data": {
      "text/plain": [
       "PassengerId      0\n",
       "Survived         0\n",
       "Pclass           0\n",
       "Name             0\n",
       "Sex              0\n",
       "Age            177\n",
       "SibSp            0\n",
       "Parch            0\n",
       "Ticket           0\n",
       "Fare             0\n",
       "Cabin          687\n",
       "Embarked         2\n",
       "dtype: int64"
      ]
     },
     "execution_count": 281,
     "metadata": {},
     "output_type": "execute_result"
    }
   ],
   "source": [
    "df.isnull().sum()"
   ]
  },
  {
   "cell_type": "markdown",
   "id": "cc03029c-443b-4614-920f-d620f79fb201",
   "metadata": {},
   "source": [
    "**A bar graph based on the missing value count**"
   ]
  },
  {
   "cell_type": "code",
   "execution_count": 282,
   "id": "27fed000-b2e2-4919-a607-6beaffe20ca6",
   "metadata": {},
   "outputs": [
    {
     "data": {
      "image/png": "[encoded data removed]",
      "text/plain": [
       "<Figure size 640x480 with 1 Axes>"
      ]
     },
     "metadata": {},
     "output_type": "display_data"
    }
   ],
   "source": [
    "missing=df.isnull().sum()\n",
    "pl=missing.plot(kind='bar',color='skyblue')\n",
    "for index,value in enumerate(missing):\n",
    "    plt.text(index,value+5,str(value),ha='center',va='bottom',fontsize=10,fontweight='bold')\n",
    "#plt.tight_layout()\n",
    "plt.show()"
   ]
  },
  {
   "cell_type": "markdown",
   "id": "d2e7b78b-8962-4779-86a0-147d60f3d320",
   "metadata": {},
   "source": [
    "**Observation :** The Age and Cabin columns typically have missing values, while Embarked has only a few."
   ]
  },
  {
   "cell_type": "markdown",
   "id": "4ccdba97-93f9-43bc-9f62-5cace2281e92",
   "metadata": {},
   "source": [
    "**5. Filling the Age and Embarked columns with appropriate data, and dropping the Cabin column as it has a higher number of missing values.**"
   ]
  },
  {
   "cell_type": "code",
   "execution_count": 283,
   "id": "47665a78-f1e1-4378-ada9-1357716adb6d",
   "metadata": {},
   "outputs": [],
   "source": [
    "df['Age']=df['Age'].fillna(df['Age'].mean())\n",
    "df['Embarked']=df['Embarked'].fillna(df['Embarked'].mode()[0])\n",
    "df.drop(\"Cabin\",axis=1,inplace=True)"
   ]
  },
  {
   "cell_type": "code",
   "execution_count": 284,
   "id": "38106d4b-26e8-4cd8-8511-33cd1c104fa1",
   "metadata": {},
   "outputs": [
    {
     "data": {
      "text/plain": [
       "PassengerId    0\n",
       "Survived       0\n",
       "Pclass         0\n",
       "Name           0\n",
       "Sex            0\n",
       "Age            0\n",
       "SibSp          0\n",
       "Parch          0\n",
       "Ticket         0\n",
       "Fare           0\n",
       "Embarked       0\n",
       "dtype: int64"
      ]
     },
     "execution_count": 284,
     "metadata": {},
     "output_type": "execute_result"
    }
   ],
   "source": [
    "df.isnull().sum()"
   ]
  },
  {
   "cell_type": "markdown",
   "id": "a08292fd-8854-4e93-ab13-d6231a434d64",
   "metadata": {},
   "source": [
    "**6. Checking any duplicated values in each column**"
   ]
  },
  {
   "cell_type": "code",
   "execution_count": 285,
   "id": "b235b2ac-9a3a-4452-89ae-aa6585cfb0ff",
   "metadata": {},
   "outputs": [
    {
     "name": "stdout",
     "output_type": "stream",
     "text": [
      "False    891\n",
      "Name: count, dtype: int64\n"
     ]
    }
   ],
   "source": [
    "print(df.duplicated().value_counts())"
   ]
  },
  {
   "cell_type": "code",
   "execution_count": 286,
   "id": "eebf68f4-2048-4cd9-a54d-2c4515a7cf63",
   "metadata": {},
   "outputs": [
    {
     "data": {
      "text/plain": [
       "dtype('O')"
      ]
     },
     "execution_count": 286,
     "metadata": {},
     "output_type": "execute_result"
    }
   ],
   "source": [
    "df['Embarked'].dtypes"
   ]
  },
  {
   "cell_type": "markdown",
   "id": "879d199a-40fe-4ffd-aa1c-d4c74152ada8",
   "metadata": {},
   "source": [
    "**7. The Total Survival Count**\n",
    "   "
   ]
  },
  {
   "cell_type": "code",
   "execution_count": 287,
   "id": "efd64c2e-7b2c-4f72-b995-7933b00b0cd3",
   "metadata": {},
   "outputs": [
    {
     "name": "stdout",
     "output_type": "stream",
     "text": [
      "Survived\n",
      "0    549\n",
      "1    342\n",
      "Name: count, dtype: int64\n"
     ]
    }
   ],
   "source": [
    "survival=df['Survived'].value_counts()\n",
    "print(survival)"
   ]
  },
  {
   "cell_type": "markdown",
   "id": "5fc94a07-c132-4270-8a09-5c329c99a710",
   "metadata": {},
   "source": [
    "**A Bar graph representation of Survival Count**"
   ]
  },
  {
   "cell_type": "code",
   "execution_count": 288,
   "id": "a1da6263-ea16-4063-b5d9-eaccd4b112c9",
   "metadata": {},
   "outputs": [
    {
     "name": "stderr",
     "output_type": "stream",
     "text": [
      "C:\\Users\\Sheenu\\AppData\\Local\\Temp\\ipykernel_11884\\2384856242.py:1: FutureWarning: \n",
      "\n",
      "Passing `palette` without assigning `hue` is deprecated and will be removed in v0.14.0. Assign the `x` variable to `hue` and set `legend=False` for the same effect.\n",
      "\n",
      "  sns.countplot(x='Survived',data=df,palette='pastel')\n"
     ]
    },
    {
     "data": {
      "image/png": "[encoded data removed]",
      "text/plain": [
       "<Figure size 640x480 with 1 Axes>"
      ]
     },
     "metadata": {},
     "output_type": "display_data"
    }
   ],
   "source": [
    "sns.countplot(x='Survived',data=df,palette='pastel')\n",
    "for index,value in enumerate(survival):\n",
    "    plt.text(index,value+5,str(value),ha='center',va='bottom',fontsize=10,fontweight='bold')\n",
    "plt.title(\"Survival Count (0 = Died, 1 = Survived)\")\n",
    "plt.xlabel(\"Survived\")\n",
    "plt.ylabel(\"Passenger Count\")\n",
    "plt.show()"
   ]
  },
  {
   "cell_type": "markdown",
   "id": "8167f2f8-77ed-46ce-803d-5d960fb728be",
   "metadata": {},
   "source": [
    "**Observation :** From the above graph it is clear that , 549 people died & 342 people survived"
   ]
  },
  {
   "cell_type": "markdown",
   "id": "66786b1c-e9c6-4c96-bb7f-97ce8f190e2e",
   "metadata": {},
   "source": [
    "**8. Survived By Gender**\n"
   ]
  },
  {
   "cell_type": "code",
   "execution_count": 289,
   "id": "e131ba01-118f-48c6-a610-7eee364108a7",
   "metadata": {},
   "outputs": [
    {
     "name": "stdout",
     "output_type": "stream",
     "text": [
      "Sex\n",
      "male      577\n",
      "female    314\n",
      "Name: count, dtype: int64\n"
     ]
    }
   ],
   "source": [
    "GenderCount=df['Sex'].value_counts()\n",
    "print(GenderCount)"
   ]
  },
  {
   "cell_type": "markdown",
   "id": "a556d656-67c9-4253-b8ca-0a6ca38c4ba0",
   "metadata": {},
   "source": [
    "**Observation :** A Total of 577 males & 314 females are survived"
   ]
  },
  {
   "cell_type": "markdown",
   "id": "230bb2f2-23db-42fa-9717-5bc89d7f96d9",
   "metadata": {},
   "source": [
    "**9. Survival Count based on Gender**"
   ]
  },
  {
   "cell_type": "code",
   "execution_count": 290,
   "id": "a72aaf21-f917-45a1-acda-3fa9517d677e",
   "metadata": {},
   "outputs": [
    {
     "name": "stdout",
     "output_type": "stream",
     "text": [
      "Sex     Survived\n",
      "female  0            81\n",
      "        1           233\n",
      "male    0           468\n",
      "        1           109\n",
      "dtype: int64\n"
     ]
    }
   ],
   "source": [
    "Survivalcount=df.groupby([\"Sex\",\"Survived\"]).size()\n",
    "print(Survivalcount)"
   ]
  },
  {
   "cell_type": "markdown",
   "id": "bc26db72-a238-4513-a641-1443d681351c",
   "metadata": {},
   "source": [
    "**A Bar graph representation of Survival Count Based on Gender**"
   ]
  },
  {
   "cell_type": "markdown",
   "id": "ef6f4d4d-207b-469a-b7a4-697f3c78526e",
   "metadata": {},
   "source": [
    "**size() counts the no:of rows in each group**"
   ]
  },
  {
   "cell_type": "code",
   "execution_count": 291,
   "id": "0ab44eb7-3743-4e69-898d-3ab6b348e85a",
   "metadata": {},
   "outputs": [
    {
     "data": {
      "image/png": "[encoded data removed]",
      "text/plain": [
       "<Figure size 640x480 with 1 Axes>"
      ]
     },
     "metadata": {},
     "output_type": "display_data"
    }
   ],
   "source": [
    "sns.countplot(x=\"Sex\",hue=\"Survived\",data=df,palette='pastel')\n",
    "plt.show()"
   ]
  },
  {
   "cell_type": "markdown",
   "id": "b6086c4f-ef79-4a6a-ab44-d0869984490f",
   "metadata": {},
   "source": [
    "**Observation :** This table shows the count of male and female passengers and their survival status. Here, 0 indicates the number of deaths, whereas 1 represents the number of survivors.\n",
    "\n",
    "From this data, we can see that **109 males and 233 females survived**, while **468 males and 81 females** died."
   ]
  },
  {
   "cell_type": "markdown",
   "id": "eaa5dd7b-0598-44e6-a346-bebb02291b06",
   "metadata": {},
   "source": [
    "**10. Passenger Class Distribution**"
   ]
  },
  {
   "cell_type": "code",
   "execution_count": 292,
   "id": "80703c4c-ebb0-492e-9802-2b083f800949",
   "metadata": {},
   "outputs": [
    {
     "name": "stdout",
     "output_type": "stream",
     "text": [
      "Pclass\n",
      "3    491\n",
      "1    216\n",
      "2    184\n",
      "Name: count, dtype: int64\n"
     ]
    }
   ],
   "source": [
    "Passclass=df['Pclass'].value_counts()\n",
    "print(Passclass)"
   ]
  },
  {
   "cell_type": "markdown",
   "id": "fb5ab9f6-6460-4ed8-b1b4-f5008abbe466",
   "metadata": {},
   "source": [
    "**Pie Chart representation of Passenger Class Distribution**"
   ]
  },
  {
   "cell_type": "code",
   "execution_count": 293,
   "id": "8e9f6c55-eaf9-4ee3-869e-be574f4b221f",
   "metadata": {},
   "outputs": [
    {
     "data": {
      "image/png": "[encoded data removed]",
      "text/plain": [
       "<Figure size 640x480 with 1 Axes>"
      ]
     },
     "metadata": {},
     "output_type": "display_data"
    }
   ],
   "source": [
    "Labels = ['class1(upper)','class2(middle)','class3(lower)']\n",
    "plt.pie(Passclass,labels=Labels,autopct=\"%1.1f%%\", colors=['indianred','lightgreen','skyblue'])\n",
    "plt.show()"
   ]
  },
  {
   "cell_type": "markdown",
   "id": "a6345023-b6f8-4b8b-b65b-3482818ede94",
   "metadata": {},
   "source": [
    "**Observation :** This shows the passenger class distribution, where 3 represents the lower class, 2 represents the middle class, and 1 represents the upper class.\n",
    "\n",
    "From this, it is clear that **216 people traveled in the upper class, 184 in the middle class, and 491 in the lower class**."
   ]
  },
  {
   "cell_type": "markdown",
   "id": "d313ac15-618e-4576-806d-fc671c48f061",
   "metadata": {},
   "source": [
    "**11. Age Distribution Using KDE plot (Kernel Distribution Estimate)**"
   ]
  },
  {
   "cell_type": "code",
   "execution_count": 294,
   "id": "08154c33-0bba-41f3-9612-5562cd272498",
   "metadata": {},
   "outputs": [
    {
     "data": {
      "image/png": "[encoded data removed]",
      "text/plain": [
       "<Figure size 640x480 with 1 Axes>"
      ]
     },
     "metadata": {},
     "output_type": "display_data"
    }
   ],
   "source": [
    "sns.kdeplot(df['Age'],fill='True',color='skyblue')\n",
    "plt.show()"
   ]
  },
  {
   "cell_type": "markdown",
   "id": "3457debf-bfad-4588-810f-64520ef764da",
   "metadata": {},
   "source": [
    "**Observation :** Most of the passengers who traveled were between **20 and 40 years old.**"
   ]
  },
  {
   "cell_type": "markdown",
   "id": "d1f50f5f-51e4-4258-8bed-1b9a0364a5ed",
   "metadata": {},
   "source": [
    "**5. Age V/S Survival Count representation using Histogram**"
   ]
  },
  {
   "cell_type": "code",
   "execution_count": 295,
   "id": "46cb3210-459f-43bd-8ce0-1c032e920633",
   "metadata": {},
   "outputs": [
    {
     "data": {
      "image/png": "[encoded data removed]",
      "text/plain": [
       "<Figure size 640x480 with 1 Axes>"
      ]
     },
     "metadata": {},
     "output_type": "display_data"
    }
   ],
   "source": [
    "sns.histplot(x=\"Age\",hue=\"Survived\",multiple=\"stack\",data=df,palette=\"Set1\",bins=20)\n",
    "plt.show()"
   ]
  },
  {
   "cell_type": "markdown",
   "id": "396b9b92-a857-4980-8366-acbf1042467a",
   "metadata": {},
   "source": [
    "**Observation :** The age with the highest number of deaths and survivors is 30 years, whereas the lowest counts are among people over 60 years old."
   ]
  },
  {
   "cell_type": "markdown",
   "id": "0427a197-d742-4ac9-929c-861cc8a65453",
   "metadata": {},
   "source": [
    "**6. Survival by Age Group**"
   ]
  },
  {
   "cell_type": "code",
   "execution_count": 296,
   "id": "191ca400-daa1-4a6a-9082-4285bf81f795",
   "metadata": {},
   "outputs": [
    {
     "data": {
      "image/png": "[encoded data removed]",
      "text/plain": [
       "<Figure size 640x480 with 1 Axes>"
      ]
     },
     "metadata": {},
     "output_type": "display_data"
    }
   ],
   "source": [
    "df['Age_Group']=pd.cut(df['Age'],bins=[0,12,20,36,50,100],labels=['Child','Teen','Adults','Middle Age','Seniors'])\n",
    "sns.countplot(x=\"Age_Group\",hue=\"Survived\",palette=\"pastel\",data=df)\n",
    "plt.show()"
   ]
  },
  {
   "cell_type": "markdown",
   "id": "985c75c9-8ad8-4dc0-8c57-c9d4e511584f",
   "metadata": {},
   "source": [
    "**Observation :** From this graph, it is clear that **adults have the highest death and survival rates**, whereas the **lowest deaths and survivors are in the senior and child categories**, respectively."
   ]
  },
  {
   "cell_type": "markdown",
   "id": "29a1ded4-707c-45f3-a98c-e89d470a131c",
   "metadata": {},
   "source": [
    "**Final Conclusion :** The data shows that more **females survived than males**, and survival varied across passenger classes, with the **majority traveling in the lower class**. Most passengers were aged 20–40, with **30 years being the age with the highest number of deaths and survivors**, while counts were **lowest for those over 60**. Overall, **adults experienced the highest death and survival rates, whereas seniors and children had the lowest**."
   ]
  },
  {
   "cell_type": "code",
   "execution_count": null,
   "id": "a7ce7576-b08b-4071-8291-1829ac74e95c",
   "metadata": {},
   "outputs": [],
   "source": []
  }
 ],
 "metadata": {
  "kernelspec": {
   "display_name": "Python 3 (ipykernel)",
   "language": "python",
   "name": "python3"
  },
  "language_info": {
   "codemirror_mode": {
    "name": "ipython",
    "version": 3
   },
   "file_extension": ".py",
   "mimetype": "text/x-python",
   "name": "python",
   "nbconvert_exporter": "python",
   "pygments_lexer": "ipython3",
   "version": "3.13.5"
  }
 },
 "nbformat": 4,
 "nbformat_minor": 5
}
